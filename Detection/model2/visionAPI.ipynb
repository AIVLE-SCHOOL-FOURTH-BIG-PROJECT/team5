{
 "cells": [
  {
   "cell_type": "code",
   "execution_count": 15,
   "metadata": {},
   "outputs": [],
   "source": [
    "def get_image_size(path):\n",
    "    with Image.open(path) as img:\n",
    "        return img.size  # (width, height)\n",
    "    \n",
    "def localize_objects(path): \n",
    "    objectBox = []\n",
    "    box = []\n",
    "    temp = []\n",
    "    imgWidth, imgHeight = get_image_size(path)\n",
    "    \n",
    "    client = vision.ImageAnnotatorClient()\n",
    "    with open(path, \"rb\") as image_file:\n",
    "        content = image_file.read()\n",
    "    image = vision.Image(content=content)\n",
    "\n",
    "    objects = client.object_localization(image=image).localized_object_annotations\n",
    "\n",
    "    # print(f\"Number of objects found: {len(objects)}\")\n",
    "    for object_ in objects:\n",
    "        # print(f\"\\n{object_.name} (confidence: {object_.score})\")\n",
    "        # print(\"Normalized bounding polygon vertices: \")\n",
    "        for vertex in object_.bounding_poly.normalized_vertices:\n",
    "            # print(f\" - ({vertex.x}, {vertex.y})\")\n",
    "            pixel_x = int(vertex.x * imgWidth)\n",
    "            pixel_y = int(vertex.y * imgHeight)\n",
    "            # print(f\" - ({pixel_x}, {pixel_y})\")\n",
    "            temp.append(pixel_x)\n",
    "            temp.append(pixel_y)\n",
    "        box.append(temp[0])\n",
    "        box.append(temp[1])\n",
    "        box.append(temp[4])\n",
    "        box.append(temp[5])\n",
    "        temp = []\n",
    "        # print(box)\n",
    "        object_info = {\n",
    "            \"name\": object_.name,\n",
    "            \"confidence\": object_.score,\n",
    "            \"box\": box,\n",
    "        }\n",
    "        box = []\n",
    "        objectBox.append(object_info)\n",
    "        \n",
    "    return objectBox\n",
    "\n",
    "def obj_detection(path):\n",
    "    img = cv2.imread(path)\n",
    "    objects = localize_objects(path)\n",
    "\n",
    "    fileName = os.path.basename(path)\n",
    "    width, height = get_image_size(path)\n",
    "\n",
    "    result = {\n",
    "        'fileName': fileName,\n",
    "        'size': [width, height],\n",
    "    }\n",
    "    for i, obj in enumerate(objects):\n",
    "        x1, y1, x2, y2 = obj['box']\n",
    "        cropped_img = img[y1:y2, x1:x2]\n",
    "        img_rgb = cv2.cvtColor(cropped_img, cv2.COLOR_BGR2RGB)\n",
    "        pil_img = Image.fromarray(img_rgb)\n",
    "        obj['crop_img'] = pil_img\n",
    "    result['objects'] = objects\n",
    "    return result\n",
    "            \n",
    "        "
   ]
  },
  {
   "cell_type": "code",
   "execution_count": 16,
   "metadata": {},
   "outputs": [
    {
     "data": {
      "text/plain": [
       "{'fileName': 'FlamakerConvertibleSectionalSofaCouchModernFabricUShapedLivingRoomFurnitureSetSeatSectionalSleeperSofawithDoubleChaiseMemoryFoamGrey.jpg',\n",
       " 'size': [1500, 1500],\n",
       " 'objects': [{'name': 'Couch',\n",
       "   'confidence': 0.821620523929596,\n",
       "   'box': [81, 561, 1444, 1341],\n",
       "   'crop_img': <PIL.Image.Image image mode=RGB size=1363x780>},\n",
       "  {'name': 'Houseplant',\n",
       "   'confidence': 0.7138032913208008,\n",
       "   'box': [6, 460, 259, 974],\n",
       "   'crop_img': <PIL.Image.Image image mode=RGB size=253x514>},\n",
       "  {'name': 'Cabinetry',\n",
       "   'confidence': 0.694159746170044,\n",
       "   'box': [706, 312, 1200, 602],\n",
       "   'crop_img': <PIL.Image.Image image mode=RGB size=494x290>},\n",
       "  {'name': 'Table',\n",
       "   'confidence': 0.5663102269172668,\n",
       "   'box': [930, 1050, 1430, 1382],\n",
       "   'crop_img': <PIL.Image.Image image mode=RGB size=500x332>}]}"
      ]
     },
     "execution_count": 16,
     "metadata": {},
     "output_type": "execute_result"
    }
   ],
   "source": [
    "import cv2, os\n",
    "from PIL import Image\n",
    "from google.cloud import vision  \n",
    "\n",
    "path = 'C:\\\\Users\\\\user\\\\Desktop\\\\BigF\\\\team5\\\\Detection\\\\test_crawling_data\\\\FlamakerConvertibleSectionalSofaCouchModernFabricUShapedLivingRoomFurnitureSetSeatSectionalSleeperSofawithDoubleChaiseMemoryFoamGrey.jpg'\n",
    "\n",
    "ass = obj_detection(path)\n",
    "ass\n"
   ]
  },
  {
   "cell_type": "code",
   "execution_count": 14,
   "metadata": {},
   "outputs": [
    {
     "data": {
      "text/plain": [
       "[{'name': 'Couch',\n",
       "  'confidence': 0.821620523929596,\n",
       "  'box': [81, 561, 1444, 1341],\n",
       "  'crop_img': <PIL.Image.Image image mode=RGB size=1363x780>},\n",
       " {'name': 'Houseplant',\n",
       "  'confidence': 0.7138032913208008,\n",
       "  'box': [6, 460, 259, 974],\n",
       "  'crop_img': <PIL.Image.Image image mode=RGB size=253x514>},\n",
       " {'name': 'Cabinetry',\n",
       "  'confidence': 0.694159746170044,\n",
       "  'box': [706, 312, 1200, 602],\n",
       "  'crop_img': <PIL.Image.Image image mode=RGB size=494x290>},\n",
       " {'name': 'Table',\n",
       "  'confidence': 0.5663102269172668,\n",
       "  'box': [930, 1050, 1430, 1382],\n",
       "  'crop_img': <PIL.Image.Image image mode=RGB size=500x332>}]"
      ]
     },
     "execution_count": 14,
     "metadata": {},
     "output_type": "execute_result"
    }
   ],
   "source": [
    "objects"
   ]
  },
  {
   "cell_type": "code",
   "execution_count": null,
   "metadata": {},
   "outputs": [],
   "source": []
  }
 ],
 "metadata": {
  "kernelspec": {
   "display_name": "retina",
   "language": "python",
   "name": "python3"
  },
  "language_info": {
   "codemirror_mode": {
    "name": "ipython",
    "version": 3
   },
   "file_extension": ".py",
   "mimetype": "text/x-python",
   "name": "python",
   "nbconvert_exporter": "python",
   "pygments_lexer": "ipython3",
   "version": "3.8.0"
  }
 },
 "nbformat": 4,
 "nbformat_minor": 2
}

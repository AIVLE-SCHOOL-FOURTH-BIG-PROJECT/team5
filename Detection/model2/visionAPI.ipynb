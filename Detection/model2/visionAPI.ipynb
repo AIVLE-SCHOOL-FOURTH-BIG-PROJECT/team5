{
 "cells": [
  {
   "cell_type": "code",
   "execution_count": 5,
   "metadata": {},
   "outputs": [
    {
     "name": "stdout",
     "output_type": "stream",
     "text": [
      "Collecting google-cloud-aiplatform\n",
      "  Downloading google_cloud_aiplatform-1.38.1-py2.py3-none-any.whl.metadata (27 kB)\n",
      "Requirement already satisfied: google-api-core!=2.0.*,!=2.1.*,!=2.2.*,!=2.3.*,!=2.4.*,!=2.5.*,!=2.6.*,!=2.7.*,<3.0.0dev,>=1.32.0 in c:\\users\\user\\anaconda3\\envs\\retina\\lib\\site-packages (from google-api-core[grpc]!=2.0.*,!=2.1.*,!=2.2.*,!=2.3.*,!=2.4.*,!=2.5.*,!=2.6.*,!=2.7.*,<3.0.0dev,>=1.32.0->google-cloud-aiplatform) (2.15.0)\n",
      "Requirement already satisfied: proto-plus<2.0.0dev,>=1.22.0 in c:\\users\\user\\anaconda3\\envs\\retina\\lib\\site-packages (from google-cloud-aiplatform) (1.23.0)\n",
      "Requirement already satisfied: protobuf!=3.20.0,!=3.20.1,!=4.21.0,!=4.21.1,!=4.21.2,!=4.21.3,!=4.21.4,!=4.21.5,<5.0.0dev,>=3.19.5 in c:\\users\\user\\anaconda3\\envs\\retina\\lib\\site-packages (from google-cloud-aiplatform) (4.25.1)\n",
      "Requirement already satisfied: packaging>=14.3 in c:\\users\\user\\anaconda3\\envs\\retina\\lib\\site-packages (from google-cloud-aiplatform) (23.2)\n",
      "Collecting google-cloud-storage<3.0.0dev,>=1.32.0 (from google-cloud-aiplatform)\n",
      "  Downloading google_cloud_storage-2.14.0-py2.py3-none-any.whl.metadata (6.1 kB)\n",
      "Collecting google-cloud-bigquery<4.0.0dev,>=1.15.0 (from google-cloud-aiplatform)\n",
      "  Downloading google_cloud_bigquery-3.14.1-py2.py3-none-any.whl.metadata (8.8 kB)\n",
      "Collecting google-cloud-resource-manager<3.0.0dev,>=1.3.3 (from google-cloud-aiplatform)\n",
      "  Downloading google_cloud_resource_manager-1.11.0-py2.py3-none-any.whl.metadata (5.2 kB)\n",
      "Collecting shapely<3.0.0dev (from google-cloud-aiplatform)\n",
      "  Downloading shapely-2.0.2-cp38-cp38-win_amd64.whl.metadata (7.2 kB)\n",
      "Requirement already satisfied: googleapis-common-protos<2.0.dev0,>=1.56.2 in c:\\users\\user\\anaconda3\\envs\\retina\\lib\\site-packages (from google-api-core!=2.0.*,!=2.1.*,!=2.2.*,!=2.3.*,!=2.4.*,!=2.5.*,!=2.6.*,!=2.7.*,<3.0.0dev,>=1.32.0->google-api-core[grpc]!=2.0.*,!=2.1.*,!=2.2.*,!=2.3.*,!=2.4.*,!=2.5.*,!=2.6.*,!=2.7.*,<3.0.0dev,>=1.32.0->google-cloud-aiplatform) (1.62.0)\n",
      "Requirement already satisfied: google-auth<3.0.dev0,>=2.14.1 in c:\\users\\user\\anaconda3\\envs\\retina\\lib\\site-packages (from google-api-core!=2.0.*,!=2.1.*,!=2.2.*,!=2.3.*,!=2.4.*,!=2.5.*,!=2.6.*,!=2.7.*,<3.0.0dev,>=1.32.0->google-api-core[grpc]!=2.0.*,!=2.1.*,!=2.2.*,!=2.3.*,!=2.4.*,!=2.5.*,!=2.6.*,!=2.7.*,<3.0.0dev,>=1.32.0->google-cloud-aiplatform) (2.25.2)\n",
      "Requirement already satisfied: requests<3.0.0.dev0,>=2.18.0 in c:\\users\\user\\anaconda3\\envs\\retina\\lib\\site-packages (from google-api-core!=2.0.*,!=2.1.*,!=2.2.*,!=2.3.*,!=2.4.*,!=2.5.*,!=2.6.*,!=2.7.*,<3.0.0dev,>=1.32.0->google-api-core[grpc]!=2.0.*,!=2.1.*,!=2.2.*,!=2.3.*,!=2.4.*,!=2.5.*,!=2.6.*,!=2.7.*,<3.0.0dev,>=1.32.0->google-cloud-aiplatform) (2.31.0)\n",
      "Requirement already satisfied: grpcio<2.0dev,>=1.33.2 in c:\\users\\user\\anaconda3\\envs\\retina\\lib\\site-packages (from google-api-core[grpc]!=2.0.*,!=2.1.*,!=2.2.*,!=2.3.*,!=2.4.*,!=2.5.*,!=2.6.*,!=2.7.*,<3.0.0dev,>=1.32.0->google-cloud-aiplatform) (1.60.0)\n",
      "Requirement already satisfied: grpcio-status<2.0.dev0,>=1.33.2 in c:\\users\\user\\anaconda3\\envs\\retina\\lib\\site-packages (from google-api-core[grpc]!=2.0.*,!=2.1.*,!=2.2.*,!=2.3.*,!=2.4.*,!=2.5.*,!=2.6.*,!=2.7.*,<3.0.0dev,>=1.32.0->google-cloud-aiplatform) (1.60.0)\n",
      "Collecting google-cloud-core<3.0.0dev,>=1.6.0 (from google-cloud-bigquery<4.0.0dev,>=1.15.0->google-cloud-aiplatform)\n",
      "  Downloading google_cloud_core-2.4.1-py2.py3-none-any.whl.metadata (2.7 kB)\n",
      "Collecting google-resumable-media<3.0dev,>=0.6.0 (from google-cloud-bigquery<4.0.0dev,>=1.15.0->google-cloud-aiplatform)\n",
      "  Downloading google_resumable_media-2.7.0-py2.py3-none-any.whl.metadata (2.2 kB)\n",
      "Requirement already satisfied: python-dateutil<3.0dev,>=2.7.2 in c:\\users\\user\\anaconda3\\envs\\retina\\lib\\site-packages (from google-cloud-bigquery<4.0.0dev,>=1.15.0->google-cloud-aiplatform) (2.8.2)\n",
      "Collecting grpc-google-iam-v1<1.0.0dev,>=0.12.4 (from google-cloud-resource-manager<3.0.0dev,>=1.3.3->google-cloud-aiplatform)\n",
      "  Downloading grpc_google_iam_v1-0.13.0-py2.py3-none-any.whl.metadata (3.3 kB)\n",
      "Collecting google-crc32c<2.0dev,>=1.0 (from google-cloud-storage<3.0.0dev,>=1.32.0->google-cloud-aiplatform)\n",
      "  Downloading google_crc32c-1.5.0-cp38-cp38-win_amd64.whl (27 kB)\n",
      "Requirement already satisfied: numpy>=1.14 in c:\\users\\user\\anaconda3\\envs\\retina\\lib\\site-packages (from shapely<3.0.0dev->google-cloud-aiplatform) (1.24.4)\n",
      "Requirement already satisfied: cachetools<6.0,>=2.0.0 in c:\\users\\user\\anaconda3\\envs\\retina\\lib\\site-packages (from google-auth<3.0.dev0,>=2.14.1->google-api-core!=2.0.*,!=2.1.*,!=2.2.*,!=2.3.*,!=2.4.*,!=2.5.*,!=2.6.*,!=2.7.*,<3.0.0dev,>=1.32.0->google-api-core[grpc]!=2.0.*,!=2.1.*,!=2.2.*,!=2.3.*,!=2.4.*,!=2.5.*,!=2.6.*,!=2.7.*,<3.0.0dev,>=1.32.0->google-cloud-aiplatform) (5.3.2)\n",
      "Requirement already satisfied: pyasn1-modules>=0.2.1 in c:\\users\\user\\anaconda3\\envs\\retina\\lib\\site-packages (from google-auth<3.0.dev0,>=2.14.1->google-api-core!=2.0.*,!=2.1.*,!=2.2.*,!=2.3.*,!=2.4.*,!=2.5.*,!=2.6.*,!=2.7.*,<3.0.0dev,>=1.32.0->google-api-core[grpc]!=2.0.*,!=2.1.*,!=2.2.*,!=2.3.*,!=2.4.*,!=2.5.*,!=2.6.*,!=2.7.*,<3.0.0dev,>=1.32.0->google-cloud-aiplatform) (0.3.0)\n",
      "Requirement already satisfied: rsa<5,>=3.1.4 in c:\\users\\user\\anaconda3\\envs\\retina\\lib\\site-packages (from google-auth<3.0.dev0,>=2.14.1->google-api-core!=2.0.*,!=2.1.*,!=2.2.*,!=2.3.*,!=2.4.*,!=2.5.*,!=2.6.*,!=2.7.*,<3.0.0dev,>=1.32.0->google-api-core[grpc]!=2.0.*,!=2.1.*,!=2.2.*,!=2.3.*,!=2.4.*,!=2.5.*,!=2.6.*,!=2.7.*,<3.0.0dev,>=1.32.0->google-cloud-aiplatform) (4.9)\n",
      "Requirement already satisfied: six>=1.5 in c:\\users\\user\\anaconda3\\envs\\retina\\lib\\site-packages (from python-dateutil<3.0dev,>=2.7.2->google-cloud-bigquery<4.0.0dev,>=1.15.0->google-cloud-aiplatform) (1.16.0)\n",
      "Requirement already satisfied: charset-normalizer<4,>=2 in c:\\users\\user\\anaconda3\\envs\\retina\\lib\\site-packages (from requests<3.0.0.dev0,>=2.18.0->google-api-core!=2.0.*,!=2.1.*,!=2.2.*,!=2.3.*,!=2.4.*,!=2.5.*,!=2.6.*,!=2.7.*,<3.0.0dev,>=1.32.0->google-api-core[grpc]!=2.0.*,!=2.1.*,!=2.2.*,!=2.3.*,!=2.4.*,!=2.5.*,!=2.6.*,!=2.7.*,<3.0.0dev,>=1.32.0->google-cloud-aiplatform) (3.3.2)\n",
      "Requirement already satisfied: idna<4,>=2.5 in c:\\users\\user\\anaconda3\\envs\\retina\\lib\\site-packages (from requests<3.0.0.dev0,>=2.18.0->google-api-core!=2.0.*,!=2.1.*,!=2.2.*,!=2.3.*,!=2.4.*,!=2.5.*,!=2.6.*,!=2.7.*,<3.0.0dev,>=1.32.0->google-api-core[grpc]!=2.0.*,!=2.1.*,!=2.2.*,!=2.3.*,!=2.4.*,!=2.5.*,!=2.6.*,!=2.7.*,<3.0.0dev,>=1.32.0->google-cloud-aiplatform) (2.10)\n",
      "Requirement already satisfied: urllib3<3,>=1.21.1 in c:\\users\\user\\anaconda3\\envs\\retina\\lib\\site-packages (from requests<3.0.0.dev0,>=2.18.0->google-api-core!=2.0.*,!=2.1.*,!=2.2.*,!=2.3.*,!=2.4.*,!=2.5.*,!=2.6.*,!=2.7.*,<3.0.0dev,>=1.32.0->google-api-core[grpc]!=2.0.*,!=2.1.*,!=2.2.*,!=2.3.*,!=2.4.*,!=2.5.*,!=2.6.*,!=2.7.*,<3.0.0dev,>=1.32.0->google-cloud-aiplatform) (2.1.0)\n",
      "Requirement already satisfied: certifi>=2017.4.17 in c:\\users\\user\\anaconda3\\envs\\retina\\lib\\site-packages (from requests<3.0.0.dev0,>=2.18.0->google-api-core!=2.0.*,!=2.1.*,!=2.2.*,!=2.3.*,!=2.4.*,!=2.5.*,!=2.6.*,!=2.7.*,<3.0.0dev,>=1.32.0->google-api-core[grpc]!=2.0.*,!=2.1.*,!=2.2.*,!=2.3.*,!=2.4.*,!=2.5.*,!=2.6.*,!=2.7.*,<3.0.0dev,>=1.32.0->google-cloud-aiplatform) (2023.7.22)\n",
      "Requirement already satisfied: pyasn1<0.6.0,>=0.4.6 in c:\\users\\user\\anaconda3\\envs\\retina\\lib\\site-packages (from pyasn1-modules>=0.2.1->google-auth<3.0.dev0,>=2.14.1->google-api-core!=2.0.*,!=2.1.*,!=2.2.*,!=2.3.*,!=2.4.*,!=2.5.*,!=2.6.*,!=2.7.*,<3.0.0dev,>=1.32.0->google-api-core[grpc]!=2.0.*,!=2.1.*,!=2.2.*,!=2.3.*,!=2.4.*,!=2.5.*,!=2.6.*,!=2.7.*,<3.0.0dev,>=1.32.0->google-cloud-aiplatform) (0.5.1)\n",
      "Downloading google_cloud_aiplatform-1.38.1-py2.py3-none-any.whl (3.4 MB)\n",
      "   ---------------------------------------- 0.0/3.4 MB ? eta -:--:--\n",
      "   --- ------------------------------------ 0.3/3.4 MB 5.9 MB/s eta 0:00:01\n",
      "   --- ------------------------------------ 0.3/3.4 MB 5.0 MB/s eta 0:00:01\n",
      "   ------- -------------------------------- 0.7/3.4 MB 4.6 MB/s eta 0:00:01\n",
      "   ------------ --------------------------- 1.0/3.4 MB 6.0 MB/s eta 0:00:01\n",
      "   ----------------- ---------------------- 1.5/3.4 MB 6.9 MB/s eta 0:00:01\n",
      "   --------------------- ------------------ 1.8/3.4 MB 6.7 MB/s eta 0:00:01\n",
      "   ------------------------- -------------- 2.1/3.4 MB 6.8 MB/s eta 0:00:01\n",
      "   ------------------------- -------------- 2.2/3.4 MB 6.0 MB/s eta 0:00:01\n",
      "   ----------------------------- ---------- 2.5/3.4 MB 6.0 MB/s eta 0:00:01\n",
      "   ---------------------------------- ----- 2.9/3.4 MB 6.2 MB/s eta 0:00:01\n",
      "   ---------------------------------------  3.4/3.4 MB 6.5 MB/s eta 0:00:01\n",
      "   ---------------------------------------- 3.4/3.4 MB 6.3 MB/s eta 0:00:00\n",
      "Downloading google_cloud_bigquery-3.14.1-py2.py3-none-any.whl (227 kB)\n",
      "   ---------------------------------------- 0.0/227.8 kB ? eta -:--:--\n",
      "   ---------------------------------------- 227.8/227.8 kB ? eta 0:00:00\n",
      "Downloading google_cloud_resource_manager-1.11.0-py2.py3-none-any.whl (320 kB)\n",
      "   ---------------------------------------- 0.0/320.2 kB ? eta -:--:--\n",
      "   --------------------------------------- 320.2/320.2 kB 10.0 MB/s eta 0:00:00\n",
      "Downloading google_cloud_storage-2.14.0-py2.py3-none-any.whl (121 kB)\n",
      "   ---------------------------------------- 0.0/121.6 kB ? eta -:--:--\n",
      "   ---------------------------------------- 121.6/121.6 kB 7.4 MB/s eta 0:00:00\n",
      "Downloading shapely-2.0.2-cp38-cp38-win_amd64.whl (1.5 MB)\n",
      "   ---------------------------------------- 0.0/1.5 MB ? eta -:--:--\n",
      "   --------------- ------------------------ 0.6/1.5 MB 17.8 MB/s eta 0:00:01\n",
      "   ----------------------- ---------------- 0.8/1.5 MB 10.6 MB/s eta 0:00:01\n",
      "   -------------------------- ------------- 1.0/1.5 MB 7.7 MB/s eta 0:00:01\n",
      "   ------------------------------- -------- 1.1/1.5 MB 6.1 MB/s eta 0:00:01\n",
      "   ------------------------------- -------- 1.1/1.5 MB 6.1 MB/s eta 0:00:01\n",
      "   ---------------------------------------  1.4/1.5 MB 5.7 MB/s eta 0:00:01\n",
      "   ---------------------------------------  1.4/1.5 MB 5.7 MB/s eta 0:00:01\n",
      "   ---------------------------------------- 1.5/1.5 MB 3.8 MB/s eta 0:00:00\n",
      "Downloading google_cloud_core-2.4.1-py2.py3-none-any.whl (29 kB)\n",
      "Downloading google_resumable_media-2.7.0-py2.py3-none-any.whl (80 kB)\n",
      "   ---------------------------------------- 0.0/80.6 kB ? eta -:--:--\n",
      "   ---------------------------------------- 80.6/80.6 kB 2.3 MB/s eta 0:00:00\n",
      "Downloading grpc_google_iam_v1-0.13.0-py2.py3-none-any.whl (25 kB)\n",
      "Installing collected packages: shapely, google-crc32c, google-resumable-media, grpc-google-iam-v1, google-cloud-core, google-cloud-storage, google-cloud-resource-manager, google-cloud-bigquery, google-cloud-aiplatform\n",
      "Successfully installed google-cloud-aiplatform-1.38.1 google-cloud-bigquery-3.14.1 google-cloud-core-2.4.1 google-cloud-resource-manager-1.11.0 google-cloud-storage-2.14.0 google-crc32c-1.5.0 google-resumable-media-2.7.0 grpc-google-iam-v1-0.13.0 shapely-2.0.2\n",
      "Note: you may need to restart the kernel to use updated packages.\n"
     ]
    },
    {
     "name": "stderr",
     "output_type": "stream",
     "text": [
      "  WARNING: The script tb-gcp-uploader.exe is installed in 'c:\\Users\\user\\anaconda3\\envs\\retina\\Scripts' which is not on PATH.\n",
      "  Consider adding this directory to PATH or, if you prefer to suppress this warning, use --no-warn-script-location.\n"
     ]
    }
   ],
   "source": []
  },
  {
   "cell_type": "code",
   "execution_count": 1,
   "metadata": {},
   "outputs": [],
   "source": [
    "def localize_objects(path):\n",
    "    from google.cloud import vision\n",
    "\n",
    "    client = vision.ImageAnnotatorClient()\n",
    "\n",
    "    with open(path, \"rb\") as image_file:\n",
    "        content = image_file.read()\n",
    "    image = vision.Image(content=content)\n",
    "\n",
    "    objects = client.object_localization(image=image).localized_object_annotations\n",
    "\n",
    "    print(f\"Number of objects found: {len(objects)}\")\n",
    "    for object_ in objects:\n",
    "        print(f\"\\n{object_.name} (confidence: {object_.score})\")\n",
    "        print(\"Normalized bounding polygon vertices: \")\n",
    "        for vertex in object_.bounding_poly.normalized_vertices:\n",
    "            print(f\" - ({vertex.x}, {vertex.y})\")"
   ]
  },
  {
   "cell_type": "code",
   "execution_count": 2,
   "metadata": {},
   "outputs": [
    {
     "name": "stdout",
     "output_type": "stream",
     "text": [
      "Number of objects found: 4\n",
      "\n",
      "Couch (confidence: 0.821620523929596)\n",
      "Normalized bounding polygon vertices: \n",
      " - (0.0546417199075222, 0.3744741678237915)\n",
      " - (0.9631007313728333, 0.3744741678237915)\n",
      " - (0.9631007313728333, 0.894138753414154)\n",
      " - (0.0546417199075222, 0.894138753414154)\n",
      "\n",
      "Houseplant (confidence: 0.7138032913208008)\n",
      "Normalized bounding polygon vertices: \n",
      " - (0.004475255962461233, 0.30687347054481506)\n",
      " - (0.17322003841400146, 0.30687347054481506)\n",
      " - (0.17322003841400146, 0.6499773859977722)\n",
      " - (0.004475255962461233, 0.6499773859977722)\n",
      "\n",
      "Cabinetry (confidence: 0.694159746170044)\n",
      "Normalized bounding polygon vertices: \n",
      " - (0.4712080955505371, 0.20821700990200043)\n",
      " - (0.8000077605247498, 0.20821700990200043)\n",
      " - (0.8000077605247498, 0.40176960825920105)\n",
      " - (0.4712080955505371, 0.40176960825920105)\n",
      "\n",
      "Table (confidence: 0.5663102269172668)\n",
      "Normalized bounding polygon vertices: \n",
      " - (0.6200291514396667, 0.7001201510429382)\n",
      " - (0.9538989067077637, 0.7001201510429382)\n",
      " - (0.9538989067077637, 0.9216523170471191)\n",
      " - (0.6200291514396667, 0.9216523170471191)\n"
     ]
    }
   ],
   "source": [
    "path = 'C:\\\\Users\\\\user\\\\Desktop\\\\BigF\\\\team5\\\\Detection\\\\test_crawling_data\\\\FlamakerConvertibleSectionalSofaCouchModernFabricUShapedLivingRoomFurnitureSetSeatSectionalSleeperSofawithDoubleChaiseMemoryFoamGrey.jpg'\n",
    "localize_objects(path)"
   ]
  }
 ],
 "metadata": {
  "kernelspec": {
   "display_name": "retina",
   "language": "python",
   "name": "python3"
  },
  "language_info": {
   "codemirror_mode": {
    "name": "ipython",
    "version": 3
   },
   "file_extension": ".py",
   "mimetype": "text/x-python",
   "name": "python",
   "nbconvert_exporter": "python",
   "pygments_lexer": "ipython3",
   "version": "3.8.0"
  }
 },
 "nbformat": 4,
 "nbformat_minor": 2
}

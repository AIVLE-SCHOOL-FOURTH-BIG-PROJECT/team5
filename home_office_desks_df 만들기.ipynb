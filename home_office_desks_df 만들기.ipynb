{
 "cells": [
  {
   "cell_type": "code",
   "execution_count": 1,
   "metadata": {},
   "outputs": [],
   "source": [
    "# imports\n",
    "import pandas as pd\n",
    "import numpy as np\n",
    "import csv, os ,re, glob"
   ]
  },
  {
   "cell_type": "code",
   "execution_count": 2,
   "metadata": {},
   "outputs": [],
   "source": [
    "names = ['Sectional_Sofas', 'Sleeper_Sofas', 'Reclining_Sofas', 'LoveSeats', 'Futons', 'Settles', 'Convertibles', \n",
    "         'Accent_Chairs', 'Coffee_Tables', 'TV_Stands', 'End_Tables', 'Console_Tables', 'Ottomans', 'Living_Room_Sets', \n",
    "         'Decorative_Pillows', 'Throw_Blankets', 'Area_Rugs', 'Wall_Arts', 'Table_Lamps', 'Floor_Lamps', \n",
    "         'Pendants_and_Chandeliers', 'Sconces', 'Baskets_and_Storage', 'Candles', 'Live_Plants', 'Artificial_Plants', \n",
    "         'Planters', 'Decorative_Accessories', 'Window_Coverings', 'Decorative_Mirrors', 'Dining_Sets', \n",
    "         'Dining_Tables', 'Dining_Chairs', 'Bar_Stools', 'Kitchen_Islands', 'Buffets_and_Sideboards', 'China_Cabinets', \n",
    "         'Bakers_Recks', 'Bedroom_Sets', 'Mattresses', 'Nightstands', 'Dressers', 'Beds', 'Bedframes', 'Bases', 'Vanities', \n",
    "         'Entryway_Furnitures', 'Desks', 'Desk_Chairs', 'Bookcases', \n",
    "         'File_Cabinets', 'Computer_Armoires', 'Drafting_Tables', 'Cabinets', 'Furniture_Sets']"
   ]
  },
  {
   "cell_type": "code",
   "execution_count": 3,
   "metadata": {},
   "outputs": [],
   "source": [
    "# 기본 경로 설정(01-4.Crawling_integrated를 넣었던 폴더)\n",
    "base_path = '/home/all'\n",
    "\n",
    "# 파일 이름을 안전하게 만드는 함수\n",
    "def sanitize_filename(filename):\n",
    "    return re.sub(r'[^a-zA-Z]', '', filename)\n",
    "\n",
    "# 이미지 경로를 가져오는 함수\n",
    "def get_image_path(title, category):\n",
    "    sanitized_title = sanitize_filename(title[:200])\n",
    "    file_path = os.path.join(base_path, 'imgs', category, f\"{sanitized_title}.jpg\")\n",
    "    return file_path if os.path.exists(file_path) else \"File not found.\"\n",
    "\n",
    "# 모든 CSV 파일을 처리하고 하나의 데이터프레임으로 합치는 함수\n",
    "def process_all_csv_files():\n",
    "    all_dfs = []\n",
    "    for name in names:\n",
    "        csv_file = os.path.join(base_path, f'product_infos/{name}_product_infos.csv')\n",
    "        if os.path.exists(csv_file):\n",
    "            df = pd.read_csv(csv_file)\n",
    "            df['img_path'] = df['Title'].apply(lambda title: get_image_path(title, name))\n",
    "            all_dfs.append(df)\n",
    "    return pd.concat(all_dfs, ignore_index=True)\n",
    "\n",
    "# 모든 데이터를 하나의 데이터프레임으로 합치기\n",
    "combined_df = process_all_csv_files()\n"
   ]
  },
  {
   "cell_type": "code",
   "execution_count": 4,
   "metadata": {},
   "outputs": [
    {
     "name": "stdout",
     "output_type": "stream",
     "text": [
      "<class 'pandas.core.frame.DataFrame'>\n",
      "RangeIndex: 30820 entries, 0 to 30819\n",
      "Data columns (total 9 columns):\n",
      " #   Column           Non-Null Count  Dtype \n",
      "---  ------           --------------  ----- \n",
      " 0   Category         30820 non-null  object\n",
      " 1   Title            30820 non-null  object\n",
      " 2   Price            30820 non-null  object\n",
      " 3   Product_Info     30820 non-null  object\n",
      " 4   Product_Feature  30820 non-null  object\n",
      " 5   Product_Text     30233 non-null  object\n",
      " 6   Img_URL          30076 non-null  object\n",
      " 7   Product URL      30514 non-null  object\n",
      " 8   img_path         30820 non-null  object\n",
      "dtypes: object(9)\n",
      "memory usage: 2.1+ MB\n"
     ]
    }
   ],
   "source": [
    "# 결과 확인\n",
    "combined_df.info()"
   ]
  },
  {
   "cell_type": "code",
   "execution_count": 5,
   "metadata": {},
   "outputs": [
    {
     "name": "stdout",
     "output_type": "stream",
     "text": [
      "<class 'pandas.core.frame.DataFrame'>\n",
      "RangeIndex: 24069 entries, 0 to 24068\n",
      "Data columns (total 9 columns):\n",
      " #   Column           Non-Null Count  Dtype \n",
      "---  ------           --------------  ----- \n",
      " 0   Category         24069 non-null  object\n",
      " 1   Title            24069 non-null  object\n",
      " 2   Price            24069 non-null  object\n",
      " 3   Product_Info     24069 non-null  object\n",
      " 4   Product_Feature  24069 non-null  object\n",
      " 5   Product_Text     23605 non-null  object\n",
      " 6   Img_URL          24054 non-null  object\n",
      " 7   Product URL      23781 non-null  object\n",
      " 8   img_path         24069 non-null  object\n",
      "dtypes: object(9)\n",
      "memory usage: 1.7+ MB\n"
     ]
    }
   ],
   "source": [
    "# path에 주소가 없는 경우(크롤링이 실패한 사례)\n",
    "combined_df = combined_df[combined_df['img_path'] != 'File not found.'].reset_index(drop=True)\n",
    "combined_df.info()  # 약 600개 없음"
   ]
  },
  {
   "cell_type": "code",
   "execution_count": 6,
   "metadata": {},
   "outputs": [],
   "source": [
    "import ast\n",
    "\n",
    "# 'Category' 열의 문자열을 리스트로 변환\n",
    "combined_df['Category'] = combined_df['Category'].apply(ast.literal_eval)"
   ]
  },
  {
   "cell_type": "code",
   "execution_count": 7,
   "metadata": {},
   "outputs": [],
   "source": [
    "# 카테고리 확인\n",
    "\n",
    "# # Category 열에서 [3]번째 요소 추출\n",
    "# third_elements = combined_df['Category'].apply(lambda x: x[3] if len(x) > 3 else None)\n",
    "\n",
    "# # 추출된 요소들의 유일한 값 확인\n",
    "# unique_third_elements = third_elements.unique()\n",
    "# unique_third_elements"
   ]
  },
  {
   "cell_type": "code",
   "execution_count": 8,
   "metadata": {},
   "outputs": [
    {
     "data": {
      "text/html": [
       "<div>\n",
       "<style scoped>\n",
       "    .dataframe tbody tr th:only-of-type {\n",
       "        vertical-align: middle;\n",
       "    }\n",
       "\n",
       "    .dataframe tbody tr th {\n",
       "        vertical-align: top;\n",
       "    }\n",
       "\n",
       "    .dataframe thead th {\n",
       "        text-align: right;\n",
       "    }\n",
       "</style>\n",
       "<table border=\"1\" class=\"dataframe\">\n",
       "  <thead>\n",
       "    <tr style=\"text-align: right;\">\n",
       "      <th></th>\n",
       "      <th>Category</th>\n",
       "      <th>Title</th>\n",
       "      <th>Price</th>\n",
       "      <th>Product_Info</th>\n",
       "      <th>Product_Feature</th>\n",
       "      <th>Product_Text</th>\n",
       "      <th>Img_URL</th>\n",
       "      <th>Product URL</th>\n",
       "      <th>img_path</th>\n",
       "    </tr>\n",
       "  </thead>\n",
       "  <tbody>\n",
       "    <tr>\n",
       "      <th>0</th>\n",
       "      <td>[Home &amp; Kitchen, Furniture, Home Office Furnit...</td>\n",
       "      <td>homestyles Dover 71.5 Inches High by 30 Inches...</td>\n",
       "      <td>$449.99</td>\n",
       "      <td>{'Brand': 'homestyles', 'Color': 'Off White', ...</td>\n",
       "      <td>{'Material': 'Wood', 'Style': 'Dover', 'Number...</td>\n",
       "      <td>Rafted of poplar solids and engineered wood pa...</td>\n",
       "      <td>https://m.media-amazon.com/images/W/MEDIAX_792...</td>\n",
       "      <td>https://www.amazon.com/homestyles-Inches-Drawe...</td>\n",
       "      <td>/home/all/imgs/Buffets_and_Sideboards/homestyl...</td>\n",
       "    </tr>\n",
       "    <tr>\n",
       "      <th>1</th>\n",
       "      <td>[Home &amp; Kitchen, Furniture, Home Office Furnit...</td>\n",
       "      <td>A AIRLLEN Computer Desk 63 Inch Modern Simple ...</td>\n",
       "      <td>$169.99</td>\n",
       "      <td>{'Brand': 'A AIRLLEN', 'Product Dimensions': '...</td>\n",
       "      <td>{'Shape': 'Rectangular', 'Desk design': 'Compu...</td>\n",
       "      <td>【Actual Table Dimension】63 L x 23.62 D x 28.35...</td>\n",
       "      <td>https://m.media-amazon.com/images/I/71I9DrrwH9...</td>\n",
       "      <td>https://www.amazon.com/AIRLLEN-Computer-Workst...</td>\n",
       "      <td>/home/all/imgs/Desks/AAIRLLENComputerDeskInchM...</td>\n",
       "    </tr>\n",
       "    <tr>\n",
       "      <th>2</th>\n",
       "      <td>[Home &amp; Kitchen, Furniture, Home Office Furnit...</td>\n",
       "      <td>Cubiker Computer Home Office Desk with Drawers...</td>\n",
       "      <td>$79.99</td>\n",
       "      <td>{'Brand': 'Cubiker', 'Product Dimensions': '23...</td>\n",
       "      <td>{'Shape': 'Rectangular', 'Desk design': 'Compu...</td>\n",
       "      <td>Modern Confident Style: Cubiker office compute...</td>\n",
       "      <td>https://m.media-amazon.com/images/I/81tfZZqqGd...</td>\n",
       "      <td>https://www.amazon.com/Cubiker-Computer-Office...</td>\n",
       "      <td>/home/all/imgs/Desks/CubikerComputerHomeOffice...</td>\n",
       "    </tr>\n",
       "    <tr>\n",
       "      <th>3</th>\n",
       "      <td>[Home &amp; Kitchen, Furniture, Home Office Furnit...</td>\n",
       "      <td>Rise UP Dual Motor Electric Standing Desk 60x3...</td>\n",
       "      <td>$489.99</td>\n",
       "      <td>{'Brand': 'Uncaged Ergonomics', 'Product Dimen...</td>\n",
       "      <td>{'Shape': 'Rectangular', 'Desk design': 'Compu...</td>\n",
       "      <td>A beautiful, durable, dual-motor electric adju...</td>\n",
       "      <td>https://m.media-amazon.com/images/I/71Weo55ETw...</td>\n",
       "      <td>https://www.amazon.com/Electric-Adjustable-Erg...</td>\n",
       "      <td>/home/all/imgs/Desks/RiseUPDualMotorElectricSt...</td>\n",
       "    </tr>\n",
       "    <tr>\n",
       "      <th>4</th>\n",
       "      <td>[Home &amp; Kitchen, Furniture, Home Office Furnit...</td>\n",
       "      <td>CubiCubi Computer Desk, 40 inch Home Office De...</td>\n",
       "      <td>$54.99</td>\n",
       "      <td>{'Brand': 'CubiCubi', 'Product Dimensions': '1...</td>\n",
       "      <td>{'Shape': 'Rectangular', 'Desk design': 'Compu...</td>\n",
       "      <td>Modern Simple Style: This computer desk suits ...</td>\n",
       "      <td>https://m.media-amazon.com/images/I/71TfWerRrA...</td>\n",
       "      <td>https://www.amazon.com/Cubicubi-Computer-Offic...</td>\n",
       "      <td>/home/all/imgs/Desks/CubiCubiComputerDeskinchH...</td>\n",
       "    </tr>\n",
       "  </tbody>\n",
       "</table>\n",
       "</div>"
      ],
      "text/plain": [
       "                                            Category  \\\n",
       "0  [Home & Kitchen, Furniture, Home Office Furnit...   \n",
       "1  [Home & Kitchen, Furniture, Home Office Furnit...   \n",
       "2  [Home & Kitchen, Furniture, Home Office Furnit...   \n",
       "3  [Home & Kitchen, Furniture, Home Office Furnit...   \n",
       "4  [Home & Kitchen, Furniture, Home Office Furnit...   \n",
       "\n",
       "                                               Title    Price  \\\n",
       "0  homestyles Dover 71.5 Inches High by 30 Inches...  $449.99   \n",
       "1  A AIRLLEN Computer Desk 63 Inch Modern Simple ...  $169.99   \n",
       "2  Cubiker Computer Home Office Desk with Drawers...   $79.99   \n",
       "3  Rise UP Dual Motor Electric Standing Desk 60x3...  $489.99   \n",
       "4  CubiCubi Computer Desk, 40 inch Home Office De...   $54.99   \n",
       "\n",
       "                                        Product_Info  \\\n",
       "0  {'Brand': 'homestyles', 'Color': 'Off White', ...   \n",
       "1  {'Brand': 'A AIRLLEN', 'Product Dimensions': '...   \n",
       "2  {'Brand': 'Cubiker', 'Product Dimensions': '23...   \n",
       "3  {'Brand': 'Uncaged Ergonomics', 'Product Dimen...   \n",
       "4  {'Brand': 'CubiCubi', 'Product Dimensions': '1...   \n",
       "\n",
       "                                     Product_Feature  \\\n",
       "0  {'Material': 'Wood', 'Style': 'Dover', 'Number...   \n",
       "1  {'Shape': 'Rectangular', 'Desk design': 'Compu...   \n",
       "2  {'Shape': 'Rectangular', 'Desk design': 'Compu...   \n",
       "3  {'Shape': 'Rectangular', 'Desk design': 'Compu...   \n",
       "4  {'Shape': 'Rectangular', 'Desk design': 'Compu...   \n",
       "\n",
       "                                        Product_Text  \\\n",
       "0  Rafted of poplar solids and engineered wood pa...   \n",
       "1  【Actual Table Dimension】63 L x 23.62 D x 28.35...   \n",
       "2  Modern Confident Style: Cubiker office compute...   \n",
       "3  A beautiful, durable, dual-motor electric adju...   \n",
       "4  Modern Simple Style: This computer desk suits ...   \n",
       "\n",
       "                                             Img_URL  \\\n",
       "0  https://m.media-amazon.com/images/W/MEDIAX_792...   \n",
       "1  https://m.media-amazon.com/images/I/71I9DrrwH9...   \n",
       "2  https://m.media-amazon.com/images/I/81tfZZqqGd...   \n",
       "3  https://m.media-amazon.com/images/I/71Weo55ETw...   \n",
       "4  https://m.media-amazon.com/images/I/71TfWerRrA...   \n",
       "\n",
       "                                         Product URL  \\\n",
       "0  https://www.amazon.com/homestyles-Inches-Drawe...   \n",
       "1  https://www.amazon.com/AIRLLEN-Computer-Workst...   \n",
       "2  https://www.amazon.com/Cubiker-Computer-Office...   \n",
       "3  https://www.amazon.com/Electric-Adjustable-Erg...   \n",
       "4  https://www.amazon.com/Cubicubi-Computer-Offic...   \n",
       "\n",
       "                                            img_path  \n",
       "0  /home/all/imgs/Buffets_and_Sideboards/homestyl...  \n",
       "1  /home/all/imgs/Desks/AAIRLLENComputerDeskInchM...  \n",
       "2  /home/all/imgs/Desks/CubikerComputerHomeOffice...  \n",
       "3  /home/all/imgs/Desks/RiseUPDualMotorElectricSt...  \n",
       "4  /home/all/imgs/Desks/CubiCubiComputerDeskinchH...  "
      ]
     },
     "execution_count": 8,
     "metadata": {},
     "output_type": "execute_result"
    }
   ],
   "source": [
    "# 'Category' 열이 리스트 형태일 때 'Desks'를 포함하는 행 필터링\n",
    "home_office_desks_df = combined_df[combined_df['Category'].apply(lambda x: x[3] == 'Home Office Desks' if len(x) > 3 else False)]\n",
    "home_office_desks_df.reset_index(drop=True, inplace=True)\n",
    "\n",
    "# 결과 확인\n",
    "home_office_desks_df.head()"
   ]
  },
  {
   "cell_type": "code",
   "execution_count": 9,
   "metadata": {},
   "outputs": [],
   "source": [
    "home_office_desks_df = home_office_desks_df[home_office_desks_df['img_path'] != 'File not found.']"
   ]
  },
  {
   "cell_type": "code",
   "execution_count": 10,
   "metadata": {},
   "outputs": [
    {
     "name": "stdout",
     "output_type": "stream",
     "text": [
      "유니크한 'Style'의 개수: 173\n",
      "스타일 목록: {'Desk with Storage Bin', 'CubiCubi Simple Gaming Desk with Charging Side Table', '1 Pack', 'Morden', 'Asian', 'L shaped Desk', 'Desk with Keyboard Tray', 'Country Rustic', 'Antique', 'Industrial, Rustic, Antique', 'L shaped Desk with Fabric Drawer', 'Standard', 'American', 'Wall Mount Table', 'Office', 'Designs2Go No Tools Desk and Console Table Office Set', 'Gaming', 'Furologee 66\" L Shaped Computer Desk & Printer Stand', 'Scandinavian', 'modern minimalist', 'Elegant', 'Farmhouse, Modern Industrial', 'Commercial', 'CONTEMPORARY,MODERN', \"35''Brown\", 'Basic', 'Industrial,Modern', 'Split Board', 'Modern', 'Industrial Modern', 'standing desk frame', 'Transitional', 'Desk with Storage', 'Gaming Desk', '54.3x54.3 inch', 'Rockdale', 'Rustic, modern', 'Country Rustic, Modern,Gaming,Computer ,Studio,Work,Office', 'Gaming/Music Studio Desk', 'Dual Surface', 'Double Drawer & Shelf', 'office', 'Retro', 'Simple', 'Stanford', 'Office Desk', 'Gaming desk', 'L Shaped Desk', 'Minimalism', 'Flip Up Desk', 'with Keboard Tray', 'GIKPAL Blakc and White Computer Desk with Drawers', 'simple', 'computer desk writing desk', 'Modern/Industrial/Rustic', 'Industrial style', 'Computer Desk', 'Contemporary', 'Modern,Gaming,Computer ,Studio,Work,Office,Stream', 'With Monitor Shelf', '工业', 'Modern Industrial', 'Rustic', 'L Shape', '极简主义', 'L-Shaped', 'Executive Desk', 'Glam', 'Trition', 'Farmhouse, Rustic', 'With Keyboard Tray', 'Metal Post Leg', 'Minimalist', 'Art Deco', 'Curved Edge', 'Retro Desk', 'Coastal', 'Classic', 'Solo Desk', 'Rustic Retro L Shaped Desk with Drawer Cabinet', 'Venice Desk', 'Modern, Simple', 'Industrial, Farmhouse, Vintage, Mid Central', 'CONTEMPORARY, MODERN', 'Standing Desk', 'L Shaped', 'Bookcase', 'Mid Century', 'Sundance Desk', 'Single Drawer', 'Computer Writing Desk', 'Office, Modern', 'Style-C', 'Moden', 'Adjustable Removable Table', 'Hutch', 'Glass Top', 'Cape Cod', 'Contemporary, Modern', 'Country', 'minimalism', 'Traditional', 'Modern Writing Table', 'Cottage', 'Modern Simple Style', 'Farmhouse', 'Home Office', 'Computer Desk and Dresser TV Stand Brown', 'Mid-Century Modern', 'BLACK/TRUGR7/CHALK', 'K Shape Desk', 'Writing, Studying, Working', 'L-Shaped Computer Desk', '\\u200eClassic', 'Vertical Splicing', 'L shaped Desk with Reversible Storage', 'foldable desk', 'Modern,Simple,Elegant', 'Transitional/Contemporary', 'Writing Desk', 'Ameriwood Home Writing', 'Casual', 'other', 'Spectrum', 'Industrial', 'With Monitor Stand', 'Casual and Modern', 'retro industrial style', 'L-Desk', 'Stsnding Desk', 'Minimalist,Modern', 'English', 'morden', 'L Shaped Desk with LED and Outlets', 'Nordic Style', 'Basic L Shaped', 'Folding Desk', 'vintage', 'NO', 'Eclectic', 'Contemprary, Modern', 'Vintage', 'Slim', 'gaming', 'Gaming computer office studio', 'Mission', 'Modern, Vintage, Rustic', 'computer desk', 'Mid century modern style', 'Wood', 'Modern Gaming', 'Plastic Poles-Square Side', 'Shaker', 'Silver Base', '现代', 'Modern-C', 'Contemporary,Modern', 'French', 'with Monitor Stand', 'Classic, Modern, Industrial', 'Rectangle', 'With USB Ports', 'X-Frame', 'Open Storage', '2-BUTTON CONTROLLOR', 'Primary', 'Chinese', 'Desk', 'Modern, Contemporary', 'Farmhouse/Cottage', 'Modern, Space Save', 'modern, rustic', 'Modern, Industrial'}\n"
     ]
    }
   ],
   "source": [
    "import ast\n",
    "\n",
    "# 'Style' 값을 추출하고 유니크한 값들 찾기\n",
    "styles = []\n",
    "for info in home_office_desks_df['Product_Info']:\n",
    "    try:\n",
    "        product_info = ast.literal_eval(info)  # 문자열을 딕셔너리로 변환\n",
    "        if 'Style' in product_info:\n",
    "            styles.append(product_info['Style'])\n",
    "    except ValueError:\n",
    "        continue  # 변환 중 오류 발생 시 무시\n",
    "\n",
    "unique_styles = set(styles)  # 중복 제거\n",
    "style_count = len(unique_styles)  # 개수 계산\n",
    "\n",
    "print(f\"유니크한 'Style'의 개수: {style_count}\")\n",
    "print(\"스타일 목록:\", unique_styles)"
   ]
  },
  {
   "cell_type": "code",
   "execution_count": 11,
   "metadata": {},
   "outputs": [
    {
     "data": {
      "text/plain": [
       "(3663, 9)"
      ]
     },
     "execution_count": 11,
     "metadata": {},
     "output_type": "execute_result"
    }
   ],
   "source": [
    "# 특정 스타일을 남기기전 데이터\n",
    "home_office_desks_df.shape"
   ]
  },
  {
   "cell_type": "code",
   "execution_count": 12,
   "metadata": {},
   "outputs": [
    {
     "name": "stdout",
     "output_type": "stream",
     "text": [
      "정제된 스타일 개수: 2811\n",
      "스타일 그룹화 결과: {'modern': 1873, 'contemporary': 230, 'rustic': 198, 'vintage': 27, 'industrial': 242, 'traditional': 26, 'minimalist': 14, 'scandinavian': 4, 'classic': 104, 'retro': 10, 'art deco': 4, 'mid-century modern': 59, 'glam': 2, 'coastal': 1, 'shaker': 1, 'mission': 3, 'eclectic': 13}\n"
     ]
    }
   ],
   "source": [
    "import ast\n",
    "\n",
    "# 스타일을 소문자로 변환하고, 잘못 기입된 스타일을 제거하며, 유사한 스타일을 통합하는 함수 정의\n",
    "def clean_and_group_styles(style_list):\n",
    "    # 허용된 스타일 목록\n",
    "    allowed_styles = ['modern', 'contemporary', 'rustic', 'vintage', 'industrial', 'traditional', 'minimalist', 'scandinavian', 'classic', 'retro', 'art deco', 'mid-century modern', 'glam', 'coastal', 'shaker', 'mission', 'eclectic']\n",
    "\n",
    "    # 결과를 저장할 딕셔너리\n",
    "    grouped_styles = {style: 0 for style in allowed_styles}\n",
    "\n",
    "    for style in style_list:\n",
    "        # 스타일을 소문자로 변환\n",
    "        cleaned_style = style.lower()\n",
    "\n",
    "        # 잘못 기입된 스타일 제거 (숫자, 특수 문자, 또는 허용된 스타일 목록에 없는 경우)\n",
    "        if any(char.isdigit() or char in ['[', ']', '{', '}', '/', '\\\\'] for char in cleaned_style) or cleaned_style not in allowed_styles:\n",
    "            continue\n",
    "        \n",
    "        # 스타일 개수 세기\n",
    "        grouped_styles[cleaned_style] += 1\n",
    "\n",
    "    return grouped_styles\n",
    "\n",
    "# 스타일 목록 추출\n",
    "styles = []\n",
    "for info in home_office_desks_df['Product_Info']:\n",
    "    try:\n",
    "        product_info = ast.literal_eval(info)  # 문자열을 딕셔너리로 변환\n",
    "        if 'Style' in product_info:\n",
    "            styles.append(product_info['Style'])\n",
    "    except ValueError:\n",
    "        continue  # 변환 중 오류 발생 시 무시\n",
    "\n",
    "# 스타일 목록 정제 및 통합\n",
    "grouped_styles = clean_and_group_styles(styles)\n",
    "\n",
    "# 결과 출력\n",
    "print(\"정제된 스타일 개수:\", sum(grouped_styles.values()))\n",
    "print(\"스타일 그룹화 결과:\", grouped_styles)"
   ]
  },
  {
   "cell_type": "code",
   "execution_count": 13,
   "metadata": {},
   "outputs": [
    {
     "data": {
      "text/plain": [
       "{'modern': 1873,\n",
       " 'contemporary': 230,\n",
       " 'rustic': 198,\n",
       " 'vintage': 27,\n",
       " 'industrial': 242,\n",
       " 'traditional': 26,\n",
       " 'minimalist': 14,\n",
       " 'scandinavian': 4,\n",
       " 'classic': 104,\n",
       " 'retro': 10,\n",
       " 'art deco': 4,\n",
       " 'mid-century modern': 59,\n",
       " 'glam': 2,\n",
       " 'coastal': 1,\n",
       " 'shaker': 1,\n",
       " 'mission': 3,\n",
       " 'eclectic': 13}"
      ]
     },
     "execution_count": 13,
     "metadata": {},
     "output_type": "execute_result"
    }
   ],
   "source": [
    "grouped_styles"
   ]
  },
  {
   "cell_type": "code",
   "execution_count": 14,
   "metadata": {},
   "outputs": [],
   "source": [
    "styles = ['modern', 'contemporary', 'rustic', 'vintage', 'industrial', 'traditional', 'minimalist', 'scandinavian', 'classic', 'retro', 'art deco', 'mid-century modern', 'glam', 'coastal', 'shaker', 'mission', 'eclectic']"
   ]
  },
  {
   "cell_type": "code",
   "execution_count": 16,
   "metadata": {},
   "outputs": [
    {
     "data": {
      "text/plain": [
       "(2973, 9)"
      ]
     },
     "execution_count": 16,
     "metadata": {},
     "output_type": "execute_result"
    }
   ],
   "source": [
    "# 특정 스타일만 남기긴 데이터\n",
    "def is_valid_style(info):\n",
    "    try:\n",
    "        product_info = ast.literal_eval(info)\n",
    "        if 'Style' in product_info:\n",
    "            style = product_info['Style'].lower()  # 소문자로 변환\n",
    "            return any(valid_style in style for valid_style in styles)\n",
    "    except ValueError:\n",
    "        return False\n",
    "    return False\n",
    "\n",
    "# 올바른 스타일을 포함하는 행만 필터링\n",
    "home_office_desks_df = home_office_desks_df[home_office_desks_df['Product_Info'].apply(is_valid_style)]\n",
    "\n",
    "# 필터링된 데이터프레임 저장\n",
    "home_office_desks_df.shape # 대략 20% 손실"
   ]
  },
  {
   "cell_type": "code",
   "execution_count": 17,
   "metadata": {},
   "outputs": [],
   "source": [
    "home_office_desks_df.to_pickle('/home/myeong/home_office_desks_df.pkl')"
   ]
  },
  {
   "cell_type": "code",
   "execution_count": null,
   "metadata": {},
   "outputs": [],
   "source": []
  },
  {
   "cell_type": "code",
   "execution_count": null,
   "metadata": {},
   "outputs": [],
   "source": []
  },
  {
   "cell_type": "code",
   "execution_count": null,
   "metadata": {},
   "outputs": [],
   "source": []
  },
  {
   "cell_type": "code",
   "execution_count": null,
   "metadata": {},
   "outputs": [],
   "source": []
  },
  {
   "cell_type": "code",
   "execution_count": null,
   "metadata": {},
   "outputs": [],
   "source": []
  },
  {
   "cell_type": "code",
   "execution_count": null,
   "metadata": {},
   "outputs": [],
   "source": []
  },
  {
   "cell_type": "code",
   "execution_count": null,
   "metadata": {},
   "outputs": [],
   "source": []
  },
  {
   "cell_type": "code",
   "execution_count": null,
   "metadata": {},
   "outputs": [],
   "source": []
  },
  {
   "cell_type": "code",
   "execution_count": null,
   "metadata": {},
   "outputs": [],
   "source": []
  },
  {
   "cell_type": "code",
   "execution_count": 19,
   "metadata": {},
   "outputs": [
    {
     "name": "stdout",
     "output_type": "stream",
     "text": [
      "Number of rows dropped: 7492\n"
     ]
    }
   ],
   "source": [
    "# Style 라벨이 없으면 버리기\n",
    "import ast\n",
    "\n",
    "def extract_style(row):\n",
    "    for col in ['Product_Info', 'Product_Feature']:\n",
    "        try:\n",
    "            info_dict = ast.literal_eval(row[col])\n",
    "            if 'Style' in info_dict:\n",
    "                return info_dict['Style']\n",
    "            if 'style' in info_dict:\n",
    "                return info_dict['style']\n",
    "        except (ValueError, SyntaxError):\n",
    "            continue\n",
    "    return None\n",
    "\n",
    "# Apply the function to each row\n",
    "combined_df['Style'] = combined_df.apply(extract_style, axis=1)\n",
    "\n",
    "# Count the total number of rows before dropping\n",
    "initial_row_count = len(combined_df)\n",
    "\n",
    "# Drop rows where 'Style' is None\n",
    "combined_df.dropna(subset=['Style'], inplace=True)\n",
    "\n",
    "# Count the number of dropped rows\n",
    "dropped_row_count = initial_row_count - len(combined_df)\n",
    "print(f\"Number of rows dropped: {dropped_row_count}\")"
   ]
  },
  {
   "cell_type": "code",
   "execution_count": 20,
   "metadata": {},
   "outputs": [
    {
     "name": "stdout",
     "output_type": "stream",
     "text": [
      "Unique styles have been written to 'unique_styles.txt'\n"
     ]
    }
   ],
   "source": [
    "# Write the unique styles to a text file\n",
    "unique_styles = combined_df['Style'].unique()\n",
    "with open('unique_styles.txt', 'w') as file:\n",
    "    for style in unique_styles:\n",
    "        file.write(f\"{style}\\n\")\n",
    "\n",
    "# Print a message indicating that the file has been written\n",
    "print(\"Unique styles have been written to 'unique_styles.txt'\")\n"
   ]
  },
  {
   "cell_type": "code",
   "execution_count": 21,
   "metadata": {},
   "outputs": [],
   "source": [
    "import ast\n",
    "\n",
    "# Define valid styles\n",
    "valid_styles = ['modern', 'contemporary', 'classic', 'urban', 'country', 'unique', 'minimalism']\n",
    "\n",
    "# Modified categorize_style function\n",
    "def map_style(style):\n",
    "    categories = {\n",
    "        \"Modern\": [\"Modern\",'Contemporary,Modern','French','Copenhagen','Modern Contemporary','Italian', \"European\",'Mid-Century Modern, Contemporary','Eclectic, modern, traditional','Modern, Classic', 'Modern couch','contemporary and traditional, modern','Casual, Modern','Modern, Contemporary',\"Modern Minimalist\", \"High Gloss\", \"Scandinavian\", \"Nordic\", \"European\", \"Japanese\", \"Mid Century Modern\",'Mid-Century Modern,Contemporary','Mid-Centuryum', \"Contemporary Modern\", \"Minimalist Modern\"],\n",
    "        \"Contemporary\": [\"Contemporary\", \"Streamlined\", \"Unadorned\", \"Sleek\", \"Understated\", \"Clean Lines\", \"Modern Contemporary\", \"Contemporary Chic\"],\n",
    "        \"Classic\": [ \"Classic\",'Classic Contemporary', \"Antique\", \"Art Deco\", \"Colonial\", \"Baroque\", \"Vintage\", \"French\", \"Victorian\", \"Traditional\", \"Retro\",\"Traditional Classic\", \"Vintage Classic\"],\n",
    "        \"Urban\": [\"Urban\", \"Metropolitan\", \"City Style\", \"Modern Urban\", \"Urban Contemporary\", \"Industrial\", \"Loft\", \"Modern Industrial\", \"Rustic Industrial\", \"Industrial Retro Style\", \"Metropolitan\",\"Urban Industrial\", \"Industrial Chic\",'Retro'],\n",
    "        \"Country\": [\"Country\", \"Rustic Country\", \"Country Style\", \"Rural\", \"Pastoral\", \"Provincial\",\"Rustic\", \"Farmhouse\", \"Country Rustic\", \"Shabby Chic\", \"Lodge\", \"Reclaimed Wood\",\"Country Rustic\", \"Rustic Charm\"],\n",
    "        \"Unique\": [\"Unique\",  \"One-of-a-Kind\", \"Unique Design\",\"Free Style\", \"Wild\", \"Fantasy Plus\", \"Boho Style\", \"Bohemian\",\"Eclectic\",\"Bohemian Eclectic\", \"Eclectic Mix\",\"Fusion\", \"Quirky\", \"Galaxy\", \"Stars\",'Bold eclectic'],\n",
    "        \"Minimalism\": [\"Minimalism\", \"Simple\", \"Zen\", \"Bare\", \"Sparse\", \"Minimalist\",\"Simplistic Minimalism\"]\n",
    "    }\n",
    "\n",
    "    for key, values in categories.items():\n",
    "        if style in values:\n",
    "            return key\n",
    "    return style\n",
    " \n",
    "    \n",
    "\n",
    "# Simplified is_valid_style function\n",
    "def is_valid_style(style):\n",
    "    mapped_style = map_style(style)\n",
    "    if mapped_style.lower() in valid_styles:\n",
    "        return mapped_style\n",
    "    else:\n",
    "        return None\n",
    "\n",
    "# Apply the function to the 'Style' column of the DataFrame\n",
    "combined_df['Style'] = combined_df['Style'].apply(is_valid_style)\n",
    "\n",
    "\n"
   ]
  },
  {
   "cell_type": "code",
   "execution_count": 22,
   "metadata": {},
   "outputs": [
    {
     "name": "stdout",
     "output_type": "stream",
     "text": [
      "Number of rows dropped: 4147\n",
      "Number of current rows: 8716\n",
      "Counts for each Style:\n",
      "Style\n",
      "Modern          6150\n",
      "Classic         1101\n",
      "Contemporary     635\n",
      "Country          438\n",
      "Urban            198\n",
      "Minimalism       139\n",
      "Unique            53\n",
      "modern             2\n",
      "Name: count, dtype: int64\n"
     ]
    }
   ],
   "source": [
    "# Before dropping rows, count the total number of rows\n",
    "initial_row_count = len(combined_df)\n",
    "\n",
    "# Drop rows where 'Style' is None\n",
    "combined_df.dropna(subset=['Style'], inplace=True)\n",
    "\n",
    "# Count the number of dropped rows\n",
    "dropped_row_count = initial_row_count - len(combined_df)\n",
    "print(f\"Number of rows dropped: {dropped_row_count}\")\n",
    "print(f'Number of current rows: {len(combined_df)}')\n",
    "\n",
    "# Count the occurrences of each unique style value\n",
    "style_counts = combined_df['Style'].value_counts()\n",
    "print(\"Counts for each Style:\")\n",
    "print(style_counts)\n"
   ]
  },
  {
   "cell_type": "code",
   "execution_count": 23,
   "metadata": {},
   "outputs": [
    {
     "data": {
      "text/html": [
       "<div>\n",
       "<style scoped>\n",
       "    .dataframe tbody tr th:only-of-type {\n",
       "        vertical-align: middle;\n",
       "    }\n",
       "\n",
       "    .dataframe tbody tr th {\n",
       "        vertical-align: top;\n",
       "    }\n",
       "\n",
       "    .dataframe thead th {\n",
       "        text-align: right;\n",
       "    }\n",
       "</style>\n",
       "<table border=\"1\" class=\"dataframe\">\n",
       "  <thead>\n",
       "    <tr style=\"text-align: right;\">\n",
       "      <th></th>\n",
       "      <th>img_path</th>\n",
       "      <th>Style</th>\n",
       "    </tr>\n",
       "  </thead>\n",
       "  <tbody>\n",
       "    <tr>\n",
       "      <th>0</th>\n",
       "      <td>/home/all/imgs/Sectional_Sofas/HONBAYModularSo...</td>\n",
       "      <td>Modern</td>\n",
       "    </tr>\n",
       "    <tr>\n",
       "      <th>1</th>\n",
       "      <td>/home/all/imgs/Sectional_Sofas/CHITAOversizedM...</td>\n",
       "      <td>Modern</td>\n",
       "    </tr>\n",
       "    <tr>\n",
       "      <th>2</th>\n",
       "      <td>/home/all/imgs/Sectional_Sofas/HONBAYModularSl...</td>\n",
       "      <td>Modern</td>\n",
       "    </tr>\n",
       "    <tr>\n",
       "      <th>3</th>\n",
       "      <td>/home/all/imgs/Sectional_Sofas/JUMMICOConverti...</td>\n",
       "      <td>Modern</td>\n",
       "    </tr>\n",
       "    <tr>\n",
       "      <th>4</th>\n",
       "      <td>/home/all/imgs/Sectional_Sofas/DevionFurniture...</td>\n",
       "      <td>Contemporary</td>\n",
       "    </tr>\n",
       "    <tr>\n",
       "      <th>...</th>\n",
       "      <td>...</td>\n",
       "      <td>...</td>\n",
       "    </tr>\n",
       "    <tr>\n",
       "      <th>8711</th>\n",
       "      <td>/home/all/imgs/Vanities/LAVIEVERTVanitySetwith...</td>\n",
       "      <td>Modern</td>\n",
       "    </tr>\n",
       "    <tr>\n",
       "      <th>8712</th>\n",
       "      <td>/home/all/imgs/Vanities/HillsdaleFurnitureKath...</td>\n",
       "      <td>Modern</td>\n",
       "    </tr>\n",
       "    <tr>\n",
       "      <th>8713</th>\n",
       "      <td>/home/all/imgs/Vanities/SogesHomeVanityTableSe...</td>\n",
       "      <td>Modern</td>\n",
       "    </tr>\n",
       "    <tr>\n",
       "      <th>8714</th>\n",
       "      <td>/home/all/imgs/Vanities/CyclysioVanityDeskwith...</td>\n",
       "      <td>Modern</td>\n",
       "    </tr>\n",
       "    <tr>\n",
       "      <th>8715</th>\n",
       "      <td>/home/all/imgs/Vanities/BEWISHOMEVanityStoolBe...</td>\n",
       "      <td>Modern</td>\n",
       "    </tr>\n",
       "  </tbody>\n",
       "</table>\n",
       "<p>8716 rows × 2 columns</p>\n",
       "</div>"
      ],
      "text/plain": [
       "                                               img_path         Style\n",
       "0     /home/all/imgs/Sectional_Sofas/HONBAYModularSo...        Modern\n",
       "1     /home/all/imgs/Sectional_Sofas/CHITAOversizedM...        Modern\n",
       "2     /home/all/imgs/Sectional_Sofas/HONBAYModularSl...        Modern\n",
       "3     /home/all/imgs/Sectional_Sofas/JUMMICOConverti...        Modern\n",
       "4     /home/all/imgs/Sectional_Sofas/DevionFurniture...  Contemporary\n",
       "...                                                 ...           ...\n",
       "8711  /home/all/imgs/Vanities/LAVIEVERTVanitySetwith...        Modern\n",
       "8712  /home/all/imgs/Vanities/HillsdaleFurnitureKath...        Modern\n",
       "8713  /home/all/imgs/Vanities/SogesHomeVanityTableSe...        Modern\n",
       "8714  /home/all/imgs/Vanities/CyclysioVanityDeskwith...        Modern\n",
       "8715  /home/all/imgs/Vanities/BEWISHOMEVanityStoolBe...        Modern\n",
       "\n",
       "[8716 rows x 2 columns]"
      ]
     },
     "execution_count": 23,
     "metadata": {},
     "output_type": "execute_result"
    }
   ],
   "source": [
    "combined_df = combined_df[['img_path', 'Style']].reset_index(drop=True)\n",
    "combined_df"
   ]
  },
  {
   "cell_type": "code",
   "execution_count": 30,
   "metadata": {},
   "outputs": [
    {
     "name": "stdout",
     "output_type": "stream",
     "text": [
      "[6150  635 1101  139  438  198   53    2]\n"
     ]
    }
   ],
   "source": [
    "\n",
    "from collections import Counter\n",
    "\n",
    "# 1. Calculate the frequency of each style\n",
    "style_counts = Counter(combined_df['Style'])\n",
    "print(combined_df['Style'].map(style_counts).unique())"
   ]
  },
  {
   "cell_type": "code",
   "execution_count": 33,
   "metadata": {},
   "outputs": [
    {
     "data": {
      "text/plain": [
       "8714"
      ]
     },
     "execution_count": 33,
     "metadata": {},
     "output_type": "execute_result"
    }
   ],
   "source": [
    "\n",
    "# 2. Filter out styles with only one member\n",
    "combined_df = combined_df[combined_df['Style'].map(style_counts) > 10]\n",
    "len(combined_df)"
   ]
  },
  {
   "cell_type": "code",
   "execution_count": 12,
   "metadata": {},
   "outputs": [
    {
     "name": "stdout",
     "output_type": "stream",
     "text": [
      "Error opening image: /home/all/imgs/Sectional_Sofas/VANOMiUShapedSectionalSofaCouchCorduroyFabricModernCozyJumboSizeSeaterSofaDoubleChaiseLongueBeige.jpg\n"
     ]
    },
    {
     "data": {
      "image/png": "[encoded data removed]",
      "text/plain": [
       "<Figure size 1200x600 with 2 Axes>"
      ]
     },
     "metadata": {},
     "output_type": "display_data"
    }
   ],
   "source": [
    "import matplotlib.pyplot as plt\n",
    "from PIL import Image\n",
    "import os\n",
    "\n",
    "# Lists to store the dimensions\n",
    "widths = []\n",
    "heights = []\n",
    "\n",
    "# Loop through image paths and collect dimensions\n",
    "for img_path in combined_df['img_path']:\n",
    "    try:\n",
    "        with Image.open(img_path) as img:\n",
    "            width, height = img.size\n",
    "            widths.append(width)\n",
    "            heights.append(height)\n",
    "    except IOError:\n",
    "        print(f\"Error opening image: {img_path}\")\n",
    "\n",
    "# Plotting the distributions\n",
    "plt.figure(figsize=(12, 6))\n",
    "\n",
    "# Distribution of widths\n",
    "plt.subplot(1, 2, 1)\n",
    "plt.hist(widths, bins=30, color='blue', alpha=0.7)\n",
    "plt.title('Distribution of Image Widths')\n",
    "plt.xlabel('Width (pixels)')\n",
    "plt.ylabel('Frequency')\n",
    "\n",
    "# Distribution of heights\n",
    "plt.subplot(1, 2, 2)\n",
    "plt.hist(heights, bins=30, color='green', alpha=0.7)\n",
    "plt.title('Distribution of Image Heights')\n",
    "plt.xlabel('Height (pixels)')\n",
    "plt.ylabel('Frequency')\n",
    "\n",
    "plt.tight_layout()\n",
    "plt.show()\n"
   ]
  },
  {
   "cell_type": "code",
   "execution_count": 34,
   "metadata": {},
   "outputs": [
    {
     "name": "stdout",
     "output_type": "stream",
     "text": [
      "Error in processing image: /home/all/imgs/Sectional_Sofas/VANOMiUShapedSectionalSofaCouchCorduroyFabricModernCozyJumboSizeSeaterSofaDoubleChaiseLongueBeige.jpg\n"
     ]
    }
   ],
   "source": [
    "import numpy as np\n",
    "from PIL import Image\n",
    "# import h5py  # for .h5 file\n",
    "import os\n",
    "\n",
    "def process_image(image_path):\n",
    "    try:\n",
    "        # Open the image file\n",
    "        with Image.open(image_path) as img:\n",
    "            # Resize and convert to RGB\n",
    "            img = img.resize((64, 64)).convert('RGB')\n",
    "            # Convert to numpy array and normalize\n",
    "            img_array = np.asarray(img) / 255.0\n",
    "            # # Transpose the array to have channels first\n",
    "            # img_array = img_array.transpose((2, 0, 1))\n",
    "            return img_array\n",
    "    except IOError:\n",
    "        print(f\"Error in processing image: {image_path}\")\n",
    "        return None\n",
    "\n",
    "# Assuming combined_df is your DataFrame\n",
    "# Process each image and collect them in a list\n",
    "images = []\n",
    "styles = []\n",
    "for _, row in combined_df.iterrows():\n",
    "    img_array = process_image(row['img_path'])\n",
    "    if img_array is not None:\n",
    "        images.append(img_array)\n",
    "        styles.append(row['Style'])\n",
    "\n",
    "# Convert lists to numpy arrays\n",
    "images = np.array(images)\n",
    "styles = np.array(styles)\n",
    "\n",
    "# # Saving to .h5 file\n",
    "# with h5py.File('data.h5', 'w') as h5file:\n",
    "#     h5file.create_dataset('images', data=images)\n",
    "#     h5file.create_dataset('styles', data=styles)\n",
    "\n",
    "# Or, saving to .npy file\n",
    "np.save('images64.npy', images)\n",
    "np.save('styles64.npy', styles)\n"
   ]
  },
  {
   "cell_type": "code",
   "execution_count": 35,
   "metadata": {},
   "outputs": [
    {
     "name": "stdout",
     "output_type": "stream",
     "text": [
      "Shape of the 'images' dataset: (8713, 1024, 1024, 3)\n"
     ]
    }
   ],
   "source": [
    "import h5py\n",
    "\n",
    "# Open the .h5 file in read mode\n",
    "with h5py.File('image.h5', 'r') as h5file:\n",
    "    # Access the dataset\n",
    "    images_dataset = h5file['images']\n",
    "    # Get the shape of the dataset\n",
    "    images_shape = images_dataset.shape\n",
    "\n",
    "print(\"Shape of the 'images' dataset:\", images_shape)"
   ]
  },
  {
   "cell_type": "code",
   "execution_count": null,
   "metadata": {},
   "outputs": [],
   "source": []
  }
 ],
 "metadata": {
  "kernelspec": {
   "display_name": "tf",
   "language": "python",
   "name": "python3"
  },
  "language_info": {
   "codemirror_mode": {
    "name": "ipython",
    "version": 3
   },
   "file_extension": ".py",
   "mimetype": "text/x-python",
   "name": "python",
   "nbconvert_exporter": "python",
   "pygments_lexer": "ipython3",
   "version": "3.10.12"
  }
 },
 "nbformat": 4,
 "nbformat_minor": 2
}

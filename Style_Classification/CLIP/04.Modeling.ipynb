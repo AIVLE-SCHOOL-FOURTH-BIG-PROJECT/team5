{
 "cells": [
  {
   "cell_type": "code",
   "execution_count": 2,
   "metadata": {},
   "outputs": [],
   "source": [
    "# imports\n",
    "import pandas as pd\n",
    "import numpy as np\n",
    "import torch\n",
    "\n",
    "import clip\n",
    "import open_clip\n",
    "\n",
    "from PIL import Image\n",
    "import os, csv, datetime\n",
    "\n",
    "from sklearn.model_selection import train_test_split"
   ]
  },
  {
   "cell_type": "code",
   "execution_count": 27,
   "metadata": {},
   "outputs": [],
   "source": [
    "# Load the features (X)\n",
    "X = torch.load(\"CLIP_tensors.pt\")\n",
    "\n",
    "# Load the labels (y)\n",
    "y = np.load(\"CLIP_style.npy\", allow_pickle=True)\n",
    "\n",
    "from sklearn.calibration import LabelEncoder\n",
    "\n",
    "le = LabelEncoder()\n",
    "y = le.fit_transform(y)"
   ]
  },
  {
   "cell_type": "code",
   "execution_count": 28,
   "metadata": {},
   "outputs": [],
   "source": [
    "# Ensure X is a numpy array if it's not already\n",
    "X = X.detach().numpy() if isinstance(X, torch.Tensor) else X\n",
    "\n",
    "# Ensure y is a numpy array if it's not already\n",
    "y = y.numpy() if isinstance(y, torch.Tensor) else y\n"
   ]
  },
  {
   "cell_type": "code",
   "execution_count": 29,
   "metadata": {},
   "outputs": [
    {
     "data": {
      "text/plain": [
       "((11687, 1536), (11687,))"
      ]
     },
     "execution_count": 29,
     "metadata": {},
     "output_type": "execute_result"
    }
   ],
   "source": [
    "X.shape, y.shape"
   ]
  },
  {
   "cell_type": "code",
   "execution_count": 30,
   "metadata": {},
   "outputs": [],
   "source": [
    "# Split the data into training and test sets\n",
    "X_train, X_temp, y_train, y_temp = train_test_split(X, y, test_size=0.2, random_state=42, stratify=y)\n",
    "X_val, X_test, y_val, y_test = train_test_split(X_temp, y_temp, test_size=0.5, random_state=42, stratify=y_temp)\n"
   ]
  },
  {
   "cell_type": "code",
   "execution_count": 36,
   "metadata": {},
   "outputs": [],
   "source": [
    "from sklearn.ensemble import RandomForestClassifier\n",
    "from sklearn.svm import SVC\n",
    "import xgboost as xgb\n",
    "from sklearn.naive_bayes import GaussianNB\n",
    "from sklearn.metrics import accuracy_score, precision_score, recall_score, f1_score, confusion_matrix"
   ]
  },
  {
   "cell_type": "code",
   "execution_count": 32,
   "metadata": {},
   "outputs": [
    {
     "name": "stdout",
     "output_type": "stream",
     "text": [
      "Accuracy: 87.85%\n",
      "Precision: 0.89\n",
      "Recall: 0.88\n",
      "F1 Score: 0.87\n",
      "Confusion Matrix:\n",
      "[[ 78   1   1   0  48   0   0]\n",
      " [  0  44   1   0  42   0   0]\n",
      " [  1   1  54   0  17   0   0]\n",
      " [  0   0   0  13   3   0   0]\n",
      " [  1   2   1   1 807   0   1]\n",
      " [  0   0   0   0   2   5   0]\n",
      " [  0   0   0   0  19   0  26]]\n"
     ]
    }
   ],
   "source": [
    "# Random Forest\n",
    "RFC = RandomForestClassifier()\n",
    "RFC.fit(X_train, y_train)\n",
    "\n",
    "# Predictions\n",
    "y_pred_RFC = RFC.predict(X_test)\n",
    "\n",
    "# Accuracy\n",
    "accuracy_RFC = accuracy_score(y_test, y_pred_RFC)\n",
    "print(f\"Accuracy: {accuracy_RFC * 100:.2f}%\")\n",
    "\n",
    "# Precision, Recall, and F1 Score\n",
    "precision_RFC = precision_score(y_test, y_pred_RFC, average='weighted')\n",
    "recall_RFC = recall_score(y_test, y_pred_RFC, average='weighted')\n",
    "f1_RFC = f1_score(y_test, y_pred_RFC, average='weighted')\n",
    "\n",
    "print(f\"Precision: {precision_RFC:.2f}\")\n",
    "print(f\"Recall: {recall_RFC:.2f}\")\n",
    "print(f\"F1 Score: {f1_RFC:.2f}\")\n",
    "\n",
    "# Confusion Matrix\n",
    "conf_matrix_RFC = confusion_matrix(y_test, y_pred_RFC)\n",
    "print(\"Confusion Matrix:\")\n",
    "print(conf_matrix_RFC)\n"
   ]
  },
  {
   "cell_type": "code",
   "execution_count": 33,
   "metadata": {},
   "outputs": [
    {
     "name": "stdout",
     "output_type": "stream",
     "text": [
      "Accuracy: 87.77%\n",
      "Precision: 0.89\n",
      "Recall: 0.88\n",
      "F1 Score: 0.87\n",
      "Confusion Matrix:\n",
      "[[ 78   1   1   0  48   0   0]\n",
      " [  1  44   1   0  41   0   0]\n",
      " [  1   1  54   0  17   0   0]\n",
      " [  0   0   0  13   3   0   0]\n",
      " [  0   3   1   1 806   0   2]\n",
      " [  0   0   0   0   2   5   0]\n",
      " [  0   0   0   0  19   0  26]]\n"
     ]
    }
   ],
   "source": [
    "# SVM Classifier\n",
    "SVM = SVC()\n",
    "\n",
    "# Random Forest\n",
    "SVM = RandomForestClassifier()\n",
    "SVM.fit(X_train, y_train)\n",
    "\n",
    "# Predictions\n",
    "y_pred_SVM = SVM.predict(X_test)\n",
    "\n",
    "# Accuracy\n",
    "accuracy_SVM = accuracy_score(y_test, y_pred_SVM)\n",
    "print(f\"Accuracy: {accuracy_SVM * 100:.2f}%\")\n",
    "\n",
    "# Precision, Recall, and F1 Score\n",
    "precision_SVM = precision_score(y_test, y_pred_SVM, average='weighted')\n",
    "recall_SVM = recall_score(y_test, y_pred_SVM, average='weighted')\n",
    "f1_SVM = f1_score(y_test, y_pred_SVM, average='weighted')\n",
    "\n",
    "print(f\"Precision: {precision_SVM:.2f}\")\n",
    "print(f\"Recall: {recall_SVM:.2f}\")\n",
    "print(f\"F1 Score: {f1_SVM:.2f}\")\n",
    "\n",
    "# Confusion Matrix\n",
    "conf_matrix_SVM = confusion_matrix(y_test, y_pred_SVM)\n",
    "print(\"Confusion Matrix:\")\n",
    "print(conf_matrix_SVM)\n",
    "\n"
   ]
  },
  {
   "cell_type": "code",
   "execution_count": 34,
   "metadata": {},
   "outputs": [
    {
     "name": "stdout",
     "output_type": "stream",
     "text": [
      "Accuracy: 88.79%\n",
      "Precision: 0.89\n",
      "Recall: 0.89\n",
      "F1 Score: 0.88\n",
      "Confusion Matrix:\n",
      "[[ 90   1   3   0  33   0   1]\n",
      " [  0  47   1   0  39   0   0]\n",
      " [  1   0  54   0  17   0   1]\n",
      " [  0   0   0  13   3   0   0]\n",
      " [  1   5   2   1 802   0   2]\n",
      " [  0   0   0   0   2   5   0]\n",
      " [  1   0   0   0  17   0  27]]\n"
     ]
    }
   ],
   "source": [
    "# XGBClassifier\n",
    "XGB= xgb.XGBClassifier()\n",
    "\n",
    "XGB.fit(X_train, y_train)\n",
    "\n",
    "# Predictions\n",
    "y_pred_XGB = XGB.predict(X_test)\n",
    "\n",
    "# Accuracy\n",
    "accuracy_XGB = accuracy_score(y_test, y_pred_XGB)\n",
    "print(f\"Accuracy: {accuracy_XGB * 100:.2f}%\")\n",
    "\n",
    "# Precision, Recall, and F1 Score\n",
    "precision_XGB = precision_score(y_test, y_pred_XGB, average='weighted')\n",
    "recall_XGB = recall_score(y_test, y_pred_XGB, average='weighted')\n",
    "f1_XGB = f1_score(y_test, y_pred_XGB, average='weighted')\n",
    "\n",
    "print(f\"Precision: {precision_XGB:.2f}\")\n",
    "print(f\"Recall: {recall_XGB:.2f}\")\n",
    "print(f\"F1 Score: {f1_XGB:.2f}\")\n",
    "\n",
    "# Confusion Matrix\n",
    "conf_matrix_XGB = confusion_matrix(y_test, y_pred_XGB)\n",
    "print(\"Confusion Matrix:\")\n",
    "print(conf_matrix_XGB)\n",
    "\n"
   ]
  },
  {
   "cell_type": "code",
   "execution_count": 39,
   "metadata": {},
   "outputs": [
    {
     "name": "stdout",
     "output_type": "stream",
     "text": [
      "Accuracy: 38.49%\n",
      "Precision: 0.67\n",
      "Recall: 0.38\n",
      "F1 Score: 0.43\n",
      "Confusion Matrix:\n",
      "[[ 63  13  15   4  16   1  16]\n",
      " [  9  35  12   3  18   0  10]\n",
      " [ 15   1  30   0   1   0  26]\n",
      " [  2   0   0   9   3   0   2]\n",
      " [129 146  72  19 275  13 159]\n",
      " [  1   0   0   0   0   4   2]\n",
      " [  5   0   3   0   3   0  34]]\n"
     ]
    }
   ],
   "source": [
    "# Naive Bayes\n",
    "GNB= GaussianNB()\n",
    "\n",
    "GNB.fit(X_train, y_train)\n",
    "\n",
    "# Predictions\n",
    "y_pred_GNB = GNB.predict(X_test)\n",
    "\n",
    "# Accuracy\n",
    "accuracy_GNB = accuracy_score(y_test, y_pred_GNB)\n",
    "print(f\"Accuracy: {accuracy_GNB * 100:.2f}%\")\n",
    "\n",
    "# Precision, Recall, and F1 Score\n",
    "precision_GNB = precision_score(y_test, y_pred_GNB, average='weighted')\n",
    "recall_GNB = recall_score(y_test, y_pred_GNB, average='weighted')\n",
    "f1_GNB = f1_score(y_test, y_pred_GNB, average='weighted')\n",
    "\n",
    "print(f\"Precision: {precision_GNB:.2f}\")\n",
    "print(f\"Recall: {recall_GNB:.2f}\")\n",
    "print(f\"F1 Score: {f1_GNB:.2f}\")\n",
    "\n",
    "# Confusion Matrix\n",
    "conf_matrix_GNB = confusion_matrix(y_test, y_pred_GNB)\n",
    "print(\"Confusion Matrix:\")\n",
    "print(conf_matrix_GNB)\n",
    "\n"
   ]
  },
  {
   "cell_type": "code",
   "execution_count": 40,
   "metadata": {},
   "outputs": [],
   "source": [
    "import torch\n",
    "import torch.nn as nn\n",
    "import torch.nn.functional as F\n"
   ]
  },
  {
   "cell_type": "code",
   "execution_count": 74,
   "metadata": {},
   "outputs": [],
   "source": [
    "class SimpleNN(nn.Module):\n",
    "    def __init__(self):\n",
    "        super(SimpleNN, self).__init__()\n",
    "        # Define layers\n",
    "        self.fc1 = nn.Linear(1536, 768)  # Input layer to first hidden layer\n",
    "        self.bn1 = nn.BatchNorm1d(768)  # Batch normalization layer\n",
    "        self.fc2 = nn.Linear(768, 256)   # Second hidden layer\n",
    "        self.bn2 = nn.BatchNorm1d(256)  # Batch normalization layer\n",
    "        self.dropout = nn.Dropout(0.2)\n",
    "        self.fc3 = nn.Linear(256, 64)    # Third hidden layer\n",
    "        self.bn3 = nn.BatchNorm1d(64)\n",
    "        self.fc4 = nn.Linear(64, 16)     # Fourth hidden layer\n",
    "        self.bn4 = nn.BatchNorm1d(16)\n",
    "        self.fc5 = nn.Linear(16, 7)      # Output layer\n",
    "        self.dropout = nn.Dropout(0.2)   # Dropout layer\n",
    "\n",
    "    def forward(self, x):\n",
    "        # Forward pass through the network\n",
    "        x = F.relu(self.bn1(self.fc1(x)))  # Activation function for hidden layer\n",
    "        x = self.dropout(x)      # Apply dropout\n",
    "        x = F.relu(self.bn2(self.fc2(x)))  # Activation function for hidden layer\n",
    "        x = F.relu(self.bn3(self.fc3(x)))  # Activation function for hidden layer\n",
    "        x = F.relu(self.bn4(self.fc4(x)))  # Activation function for hidden layer\n",
    "        x = self.fc5(x)  # Output layer (raw logits, not softmax)\n",
    "        return x\n"
   ]
  },
  {
   "cell_type": "code",
   "execution_count": 75,
   "metadata": {},
   "outputs": [],
   "source": [
    "# Initialize the model\n",
    "model = SimpleNN()\n",
    "\n",
    "# Define the loss function\n",
    "criterion = nn.CrossEntropyLoss()  # Use CrossEntropyLoss for multi-class classification\n",
    "\n",
    "# Define an optimizer, e.g., Adam\n",
    "optimizer = torch.optim.Adam(model.parameters(), lr=0.001)\n"
   ]
  },
  {
   "cell_type": "code",
   "execution_count": 82,
   "metadata": {},
   "outputs": [
    {
     "name": "stdout",
     "output_type": "stream",
     "text": [
      "Epoch [1/10000], \n",
      "        Loss: 1.2743, Val Loss: 0.5892\n",
      "        Accuracy: 0.6000, Val Accuracy: 0.0000\n",
      "Epoch [2/10000], \n",
      "        Loss: 0.0168, Val Loss: 0.5728\n",
      "        Accuracy: 1.0000, Val Accuracy: 0.0000\n",
      "Epoch [3/10000], \n",
      "        Loss: 0.1565, Val Loss: 0.6127\n",
      "        Accuracy: 0.8000, Val Accuracy: 0.0000\n",
      "Epoch [4/10000], \n",
      "        Loss: 0.1840, Val Loss: 0.6039\n",
      "        Accuracy: 0.8000, Val Accuracy: 0.0000\n",
      "Epoch [5/10000], \n",
      "        Loss: 0.1243, Val Loss: 0.5806\n",
      "        Accuracy: 1.0000, Val Accuracy: 0.0000\n",
      "Epoch [6/10000], \n",
      "        Loss: 0.0111, Val Loss: 0.6240\n",
      "        Accuracy: 1.0000, Val Accuracy: 0.0000\n",
      "Epoch [7/10000], \n",
      "        Loss: 0.0023, Val Loss: 0.6531\n",
      "        Accuracy: 1.0000, Val Accuracy: 0.0000\n",
      "Epoch [8/10000], \n",
      "        Loss: 0.0923, Val Loss: 0.6604\n",
      "        Accuracy: 1.0000, Val Accuracy: 0.0000\n",
      "Epoch [9/10000], \n",
      "        Loss: 0.0901, Val Loss: 0.6372\n",
      "        Accuracy: 1.0000, Val Accuracy: 0.0000\n",
      "Epoch [10/10000], \n",
      "        Loss: 0.0091, Val Loss: 0.6458\n",
      "        Accuracy: 1.0000, Val Accuracy: 1.0000\n",
      "Epoch [11/10000], \n",
      "        Loss: 0.0341, Val Loss: 0.6148\n",
      "        Accuracy: 1.0000, Val Accuracy: 0.0000\n",
      "Early stopping triggered\n"
     ]
    }
   ],
   "source": [
    "from torch.utils.data import DataLoader, TensorDataset\n",
    "\n",
    "# Convert numpy arrays to PyTorch tensors\n",
    "X_train_tensor = torch.tensor(X_train, dtype=torch.float32)\n",
    "y_train_tensor = torch.tensor(y_train, dtype=torch.long)\n",
    "X_val_tensor = torch.tensor(X_val, dtype=torch.float32)\n",
    "y_val_tensor = torch.tensor(y_val, dtype=torch.long)\n",
    "\n",
    "# Create DataLoader for both training and validation sets\n",
    "train_data = TensorDataset(X_train_tensor, y_train_tensor)\n",
    "val_data = TensorDataset(X_val_tensor, y_val_tensor)\n",
    "\n",
    "batch_size = 16\n",
    "\n",
    "train_loader = DataLoader(dataset=train_data, batch_size=batch_size, shuffle=True)\n",
    "val_loader = DataLoader(dataset=val_data, batch_size=batch_size, shuffle=False)\n",
    "\n",
    "\n",
    "# Function to calculate accuracy\n",
    "def accuracy(y_pred, y_true):\n",
    "    # Get the predicted class from the maximum value in the prediction tensor\n",
    "    _, predicted = torch.max(y_pred.data, 1)\n",
    "    total = y_true.size(0)  # Total number of labels\n",
    "    correct = (predicted == y_true).sum().item()  # Count how many predictions match the true labels\n",
    "    return correct / total\n",
    "\n",
    "\n",
    "\n",
    "# Early Stopping Criteria\n",
    "patience = 10\n",
    "best_val_loss = float(\"inf\")\n",
    "counter = 0\n",
    "\n",
    "num_epochs = 10000 \n",
    "\n",
    "# Initialize lists to store per-epoch loss and accuracy\n",
    "train_losses, val_losses, train_accuracies, val_accuracies = [], [], [], []\n",
    "\n",
    "# Training Loop with Validation\n",
    "for epoch in range(num_epochs):\n",
    "    # Training Phase\n",
    "    model.train()\n",
    "    for X_batch, y_batch in train_loader:\n",
    "        y_pred = model(X_batch)\n",
    "        loss = criterion(y_pred, y_batch)\n",
    "        accuracy_train = accuracy(y_pred, y_batch)\n",
    "\n",
    "        optimizer.zero_grad()\n",
    "        loss.backward()\n",
    "        optimizer.step()\n",
    "\n",
    "\n",
    "    # Validation Phase\n",
    "    model.eval()\n",
    "    with torch.no_grad():\n",
    "        val_loss = 0\n",
    "        for X_val_batch, y_val_batch in val_loader:\n",
    "            y_val_pred = model(X_val_batch)\n",
    "            val_loss += criterion(y_val_pred, y_val_batch).item()\n",
    "            accuracy_val = accuracy(y_val_pred, y_val_batch)\n",
    "        val_loss /= len(val_loader)\n",
    "\n",
    "        # Early Stopping Check\n",
    "        if val_loss < best_val_loss:\n",
    "            best_val_loss = val_loss\n",
    "            counter = 0  # reset the counter if performance improved\n",
    "        else:\n",
    "            counter += 1\n",
    "            if counter >= patience:\n",
    "                print(\"Early stopping triggered\")\n",
    "                break\n",
    "            \n",
    "    # Inside your training loop\n",
    "    train_losses.append(loss.item())\n",
    "    val_losses.append(val_loss)\n",
    "    train_accuracies.append(accuracy_train)\n",
    "    val_accuracies.append(accuracy_val)\n",
    "            \n",
    "    print(f'Epoch [{epoch+1}/{num_epochs}], \\n\\\n",
    "        Loss: {loss.item():.4f}, Val Loss: {val_loss:.4f}\\n\\\n",
    "        Accuracy: {accuracy_train:.4f}, Val Accuracy: {accuracy_val:.4f}')\n"
   ]
  },
  {
   "cell_type": "code",
   "execution_count": 83,
   "metadata": {},
   "outputs": [
    {
     "data": {
      "image/png": "[encoded data removed]",
      "text/plain": [
       "<Figure size 1200x500 with 2 Axes>"
      ]
     },
     "metadata": {},
     "output_type": "display_data"
    }
   ],
   "source": [
    "import matplotlib.pyplot as plt\n",
    "\n",
    "# After the training loop, plot the results\n",
    "plt.figure(figsize=(12, 5))\n",
    "plt.subplot(1, 2, 1)\n",
    "plt.plot(train_losses, label='Train Loss')\n",
    "plt.plot(val_losses, label='Validation Loss')\n",
    "plt.title('Loss over epochs')\n",
    "plt.legend()\n",
    "\n",
    "plt.subplot(1, 2, 2)\n",
    "plt.plot(train_accuracies, label='Train Accuracy')\n",
    "plt.plot(val_accuracies, label='Validation Accuracy')\n",
    "plt.title('Accuracy over epochs')\n",
    "plt.legend()\n",
    "plt.show()\n"
   ]
  },
  {
   "cell_type": "code",
   "execution_count": 84,
   "metadata": {},
   "outputs": [],
   "source": [
    "# After training, you might want to see predictions on test data\n",
    "model.eval()\n",
    "with torch.no_grad():\n",
    "    X_test_tensor = torch.tensor(X_test, dtype=torch.float32)\n",
    "    y_pred_tensor = model(X_test_tensor)\n",
    "    y_pred = y_pred_tensor.numpy()  # or another appropriate conversion\n"
   ]
  },
  {
   "cell_type": "code",
   "execution_count": 85,
   "metadata": {},
   "outputs": [
    {
     "name": "stdout",
     "output_type": "stream",
     "text": [
      "Accuracy: 0.8734\n",
      "F1 Score: 0.8703\n",
      "Confusion Matrix:\n",
      "[[ 97   1   4   0  26   0   0]\n",
      " [  3  54   3   0  27   0   0]\n",
      " [  2   2  58   0  11   0   0]\n",
      " [  0   0   0  14   2   0   0]\n",
      " [ 13  19   8   1 766   1   5]\n",
      " [  0   0   0   0   1   6   0]\n",
      " [  3   0   3   1  12   0  26]]\n"
     ]
    }
   ],
   "source": [
    "# Ensure y_pred is a tensor\n",
    "y_pred_tensor = torch.tensor(y_pred) if not isinstance(y_pred, torch.Tensor) else y_pred\n",
    "\n",
    "# Get the predicted class labels\n",
    "_, y_pred_labels = torch.max(y_pred_tensor, 1)\n",
    "y_pred_labels = y_pred_labels.numpy()  # Convert tensor to numpy array if needed\n",
    "\n",
    "from sklearn.metrics import accuracy_score, f1_score, confusion_matrix\n",
    "\n",
    "# Convert y_test to numpy if it's a tensor\n",
    "y_test_np = y_test.numpy() if isinstance(y_test, torch.Tensor) else y_test\n",
    "\n",
    "# Calculate Accuracy\n",
    "accuracy = accuracy_score(y_test_np, y_pred_labels)\n",
    "print(f\"Accuracy: {accuracy:.4f}\")\n",
    "\n",
    "# Calculate F1 Score\n",
    "f1 = f1_score(y_test_np, y_pred_labels, average='weighted')\n",
    "print(f\"F1 Score: {f1:.4f}\")\n",
    "\n",
    "# Calculate and Print Confusion Matrix\n",
    "conf_matrix = confusion_matrix(y_test_np, y_pred_labels)\n",
    "print(\"Confusion Matrix:\")\n",
    "print(conf_matrix)\n"
   ]
  },
  {
   "cell_type": "markdown",
   "metadata": {},
   "source": [
    "# Save the entire model\n",
    "torch.save(model, 'model.pth')\n"
   ]
  }
 ],
 "metadata": {
  "kernelspec": {
   "display_name": "gemini",
   "language": "python",
   "name": "python3"
  },
  "language_info": {
   "codemirror_mode": {
    "name": "ipython",
    "version": 3
   },
   "file_extension": ".py",
   "mimetype": "text/x-python",
   "name": "python",
   "nbconvert_exporter": "python",
   "pygments_lexer": "ipython3",
   "version": "3.11.7"
  }
 },
 "nbformat": 4,
 "nbformat_minor": 2
}

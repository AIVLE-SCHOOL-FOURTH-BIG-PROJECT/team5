{
 "cells": [
  {
   "cell_type": "code",
   "execution_count": 19,
   "metadata": {},
   "outputs": [],
   "source": [
    "# imports\n",
    "import pandas as pd\n",
    "import numpy as np\n",
    "import csv, os ,re, glob"
   ]
  },
  {
   "cell_type": "code",
   "execution_count": 20,
   "metadata": {},
   "outputs": [],
   "source": [
    "names = ['Sectional_Sofas', 'Sleeper_Sofas', 'Reclining_Sofas', 'LoveSeats', 'Futons', 'Settles', 'Convertibles', \n",
    "         'Accent_Chairs', 'Coffee_Tables', 'TV_Stands', 'End_Tables', 'Console_Tables', 'Ottomans', 'Living_Room_Sets', \n",
    "         'Decorative_Pillows', 'Throw_Blankets', 'Area_Rugs', 'Wall_Arts', 'Table_Lamps', 'Floor_Lamps', \n",
    "         'Pendants_and_Chandeliers', 'Sconces', 'Baskets_and_Storage', 'Candles', 'Live_Plants', 'Artificial_Plants', \n",
    "         'Planters', 'Decorative_Accessories', 'Window_Coverings', 'Decorative_Mirrors', 'Dining_Sets', \n",
    "         'Dining_Tables', 'Dining_Chairs', 'Bar_Stools', 'Kitchen_Islands', 'Buffets_and_Sideboards', 'China_Cabinets', \n",
    "         'Bakers_Recks', 'Bedroom_Sets', 'Mattresses', 'Nightstands', 'Dressers', 'Beds', 'Bedframes', 'Bases', 'Vanities', \n",
    "         'Entryway_Furnitures', 'Desks', 'Desk_Chairs', 'Bookcases', \n",
    "         'File_Cabinets', 'Computer_Armoires', 'Drafting_Tables', 'Cabinets', 'Furniture_Sets']"
   ]
  },
  {
   "cell_type": "code",
   "execution_count": 24,
   "metadata": {},
   "outputs": [],
   "source": [
    "# 기본 경로 설정(01-4.Crawling_integrated를 넣었던 폴더)\n",
    "base_path = '/home/all'\n",
    "\n",
    "# 파일 이름을 안전하게 만드는 함수\n",
    "def sanitize_filename(filename):\n",
    "    return re.sub(r'[^a-zA-Z]', '', filename)\n",
    "\n",
    "# 이미지 경로를 가져오는 함수\n",
    "def get_image_path(title, category):\n",
    "    sanitized_title = sanitize_filename(title[:200])\n",
    "    file_path = os.path.join(base_path, 'imgs', category, f\"{sanitized_title}.jpg\")\n",
    "    return file_path if os.path.exists(file_path) else \"File not found.\"\n",
    "\n",
    "# 모든 CSV 파일을 처리하고 하나의 데이터프레임으로 합치는 함수\n",
    "def process_all_csv_files():\n",
    "    all_dfs = []\n",
    "    for name in names:\n",
    "        csv_file = os.path.join(base_path, f'product_infos/{name}_product_infos.csv')\n",
    "        if os.path.exists(csv_file):\n",
    "            df = pd.read_csv(csv_file)\n",
    "            df['img_path'] = df['Title'].apply(lambda title: get_image_path(title, name))\n",
    "            all_dfs.append(df)\n",
    "    return pd.concat(all_dfs, ignore_index=True)\n",
    "\n",
    "# 모든 데이터를 하나의 데이터프레임으로 합치기\n",
    "combined_df = process_all_csv_files()\n"
   ]
  },
  {
   "cell_type": "code",
   "execution_count": 25,
   "metadata": {},
   "outputs": [
    {
     "name": "stdout",
     "output_type": "stream",
     "text": [
      "<class 'pandas.core.frame.DataFrame'>\n",
      "RangeIndex: 30820 entries, 0 to 30819\n",
      "Data columns (total 9 columns):\n",
      " #   Column           Non-Null Count  Dtype \n",
      "---  ------           --------------  ----- \n",
      " 0   Category         30820 non-null  object\n",
      " 1   Title            30820 non-null  object\n",
      " 2   Price            30820 non-null  object\n",
      " 3   Product_Info     30820 non-null  object\n",
      " 4   Product_Feature  30820 non-null  object\n",
      " 5   Product_Text     30233 non-null  object\n",
      " 6   Img_URL          30076 non-null  object\n",
      " 7   Product URL      30514 non-null  object\n",
      " 8   img_path         30820 non-null  object\n",
      "dtypes: object(9)\n",
      "memory usage: 2.1+ MB\n"
     ]
    }
   ],
   "source": [
    "# 결과 확인\n",
    "combined_df.info()"
   ]
  },
  {
   "cell_type": "code",
   "execution_count": 26,
   "metadata": {},
   "outputs": [
    {
     "name": "stdout",
     "output_type": "stream",
     "text": [
      "<class 'pandas.core.frame.DataFrame'>\n",
      "RangeIndex: 24223 entries, 0 to 24222\n",
      "Data columns (total 9 columns):\n",
      " #   Column           Non-Null Count  Dtype \n",
      "---  ------           --------------  ----- \n",
      " 0   Category         24223 non-null  object\n",
      " 1   Title            24223 non-null  object\n",
      " 2   Price            24223 non-null  object\n",
      " 3   Product_Info     24223 non-null  object\n",
      " 4   Product_Feature  24223 non-null  object\n",
      " 5   Product_Text     23757 non-null  object\n",
      " 6   Img_URL          24208 non-null  object\n",
      " 7   Product URL      23935 non-null  object\n",
      " 8   img_path         24223 non-null  object\n",
      "dtypes: object(9)\n",
      "memory usage: 1.7+ MB\n"
     ]
    }
   ],
   "source": [
    "# path에 주소가 없는 경우(크롤링이 실패한 사례)\n",
    "combined_df = combined_df[combined_df['img_path'] != 'File not found.'].reset_index(drop=True)\n",
    "combined_df.info()  # 약 600개 없음"
   ]
  },
  {
   "cell_type": "code",
   "execution_count": 27,
   "metadata": {},
   "outputs": [
    {
     "name": "stdout",
     "output_type": "stream",
     "text": [
      "Number of rows dropped: 7781\n"
     ]
    }
   ],
   "source": [
    "# Style 라벨이 없으면 버리기\n",
    "import ast\n",
    "\n",
    "def extract_style(row):\n",
    "    for col in ['Product_Info', 'Product_Feature']:\n",
    "        try:\n",
    "            info_dict = ast.literal_eval(row[col])\n",
    "            if 'Style' in info_dict:\n",
    "                return info_dict['Style']\n",
    "            if 'style' in info_dict:\n",
    "                return info_dict['style']\n",
    "        except (ValueError, SyntaxError):\n",
    "            continue\n",
    "    return None\n",
    "\n",
    "# Apply the function to each row\n",
    "combined_df['Style'] = combined_df.apply(extract_style, axis=1)\n",
    "\n",
    "# Count the total number of rows before dropping\n",
    "initial_row_count = len(combined_df)\n",
    "\n",
    "# Drop rows where 'Style' is None\n",
    "combined_df.dropna(subset=['Style'], inplace=True)\n",
    "\n",
    "# Count the number of dropped rows\n",
    "dropped_row_count = initial_row_count - len(combined_df)\n",
    "print(f\"Number of rows dropped: {dropped_row_count}\")"
   ]
  },
  {
   "cell_type": "code",
   "execution_count": 28,
   "metadata": {},
   "outputs": [
    {
     "name": "stdout",
     "output_type": "stream",
     "text": [
      "Unique styles have been written to 'unique_styles.txt'\n"
     ]
    }
   ],
   "source": [
    "# Write the unique styles to a text file\n",
    "unique_styles = combined_df['Style'].unique()\n",
    "with open('unique_styles.txt', 'w') as file:\n",
    "    for style in unique_styles:\n",
    "        file.write(f\"{style}\\n\")\n",
    "\n",
    "# Print a message indicating that the file has been written\n",
    "print(\"Unique styles have been written to 'unique_styles.txt'\")\n"
   ]
  },
  {
   "cell_type": "code",
   "execution_count": 29,
   "metadata": {},
   "outputs": [],
   "source": [
    "import ast\n",
    "\n",
    "# Define valid styles\n",
    "valid_styles = ['modern', 'contemporary', 'classic', 'urban', 'country', 'unique', 'minimalism']\n",
    "\n",
    "# Modified categorize_style function\n",
    "def map_style(style):\n",
    "    categories = {\n",
    "        \"Modern\": [\"Modern\",'Contemporary,Modern','French','Copenhagen','Modern Contemporary','Italian', \"European\",'Mid-Century Modern, Contemporary','Eclectic, modern, traditional','Modern, Classic', 'Modern couch','contemporary and traditional, modern','Casual, Modern','Modern, Contemporary',\"Modern Minimalist\", \"High Gloss\", \"Scandinavian\", \"Nordic\", \"European\", \"Japanese\", \"Mid Century Modern\",'Mid-Century Modern,Contemporary','Mid-Centuryum', \"Contemporary Modern\", \"Minimalist Modern\"],\n",
    "        \"Contemporary\": [\"Contemporary\", \"Streamlined\", \"Unadorned\", \"Sleek\", \"Understated\", \"Clean Lines\", \"Modern Contemporary\", \"Contemporary Chic\"],\n",
    "        \"Classic\": [ \"Classic\",'Classic Contemporary', \"Antique\", \"Art Deco\", \"Colonial\", \"Baroque\", \"Vintage\", \"French\", \"Victorian\", \"Traditional\", \"Retro\",\"Traditional Classic\", \"Vintage Classic\"],\n",
    "        \"Urban\": [\"Urban\", \"Metropolitan\", \"City Style\", \"Modern Urban\", \"Urban Contemporary\", \"Industrial\", \"Loft\", \"Modern Industrial\", \"Rustic Industrial\", \"Industrial Retro Style\", \"Metropolitan\",\"Urban Industrial\", \"Industrial Chic\",'Retro'],\n",
    "        \"Country\": [\"Country\", \"Rustic Country\", \"Country Style\", \"Rural\", \"Pastoral\", \"Provincial\",\"Rustic\", \"Farmhouse\", \"Country Rustic\", \"Shabby Chic\", \"Lodge\", \"Reclaimed Wood\",\"Country Rustic\", \"Rustic Charm\"],\n",
    "        \"Unique\": [\"Unique\",  \"One-of-a-Kind\", \"Unique Design\",\"Free Style\", \"Wild\", \"Fantasy Plus\", \"Boho Style\", \"Bohemian\",\"Eclectic\",\"Bohemian Eclectic\", \"Eclectic Mix\",\"Fusion\", \"Quirky\", \"Galaxy\", \"Stars\",'Bold eclectic'],\n",
    "        \"Minimalism\": [\"Minimalism\", \"Simple\", \"Zen\", \"Bare\", \"Sparse\", \"Minimalist\",\"Simplistic Minimalism\"]\n",
    "    }\n",
    "\n",
    "    for key, values in categories.items():\n",
    "        if style in values:\n",
    "            return key\n",
    "    return style\n",
    " \n",
    "    \n",
    "\n",
    "# Simplified is_valid_style function\n",
    "def is_valid_style(style):\n",
    "    mapped_style = map_style(style)\n",
    "    if mapped_style.lower() in valid_styles:\n",
    "        return mapped_style\n",
    "    else:\n",
    "        return None\n",
    "\n",
    "# Apply the function to the 'Style' column of the DataFrame\n",
    "combined_df['Style'] = combined_df['Style'].apply(is_valid_style)\n",
    "\n",
    "\n"
   ]
  },
  {
   "cell_type": "code",
   "execution_count": 30,
   "metadata": {},
   "outputs": [
    {
     "name": "stdout",
     "output_type": "stream",
     "text": [
      "Number of rows dropped: 4751\n",
      "Number of current rows: 11691\n"
     ]
    }
   ],
   "source": [
    "# Before dropping rows, count the total number of rows\n",
    "initial_row_count = len(combined_df)\n",
    "\n",
    "# Drop rows where 'Style' is None\n",
    "combined_df.dropna(subset=['Style'], inplace=True)\n",
    "\n",
    "# Count the number of dropped rows\n",
    "dropped_row_count = initial_row_count - len(combined_df)\n",
    "print(f\"Number of rows dropped: {dropped_row_count}\")\n",
    "print(f'Number of current rows: {len(combined_df)}')\n"
   ]
  },
  {
   "cell_type": "code",
   "execution_count": 31,
   "metadata": {},
   "outputs": [
    {
     "name": "stdout",
     "output_type": "stream",
     "text": [
      "[8131  866 1277  159  733  455   66    2]\n"
     ]
    }
   ],
   "source": [
    "\n",
    "from collections import Counter\n",
    "\n",
    "# 1. Calculate the frequency of each style\n",
    "style_counts = Counter(combined_df['Style'])\n",
    "print(combined_df['Style'].map(style_counts).unique())"
   ]
  },
  {
   "cell_type": "code",
   "execution_count": 32,
   "metadata": {},
   "outputs": [
    {
     "data": {
      "text/plain": [
       "11687"
      ]
     },
     "execution_count": 32,
     "metadata": {},
     "output_type": "execute_result"
    }
   ],
   "source": [
    "\n",
    "# 2. Filter out styles with only one member\n",
    "combined_df = combined_df[combined_df['Style'].map(style_counts) > 10]\n",
    "len(combined_df)"
   ]
  },
  {
   "cell_type": "code",
   "execution_count": 33,
   "metadata": {},
   "outputs": [
    {
     "name": "stdout",
     "output_type": "stream",
     "text": [
      "Counts for each Style:\n",
      "Style\n",
      "Modern          8131\n",
      "Classic         1277\n",
      "Contemporary     866\n",
      "Country          733\n",
      "Urban            455\n",
      "Minimalism       159\n",
      "Unique            66\n",
      "Name: count, dtype: int64\n"
     ]
    }
   ],
   "source": [
    "\n",
    "# Count the occurrences of each unique style value\n",
    "style_counts = combined_df['Style'].value_counts()\n",
    "print(\"Counts for each Style:\")\n",
    "print(style_counts)\n"
   ]
  },
  {
   "cell_type": "code",
   "execution_count": 17,
   "metadata": {},
   "outputs": [
    {
     "name": "stdout",
     "output_type": "stream",
     "text": [
      "Error opening image: /home/all/imgs/Sectional_Sofas/VANOMiUShapedSectionalSofaCouchCorduroyFabricModernCozyJumboSizeSeaterSofaDoubleChaiseLongueBeige.jpg\n"
     ]
    },
    {
     "data": {
      "image/png": "[encoded data removed]",
      "text/plain": [
       "<Figure size 1200x600 with 2 Axes>"
      ]
     },
     "metadata": {},
     "output_type": "display_data"
    }
   ],
   "source": [
    "import matplotlib.pyplot as plt\n",
    "from PIL import Image\n",
    "import os\n",
    "\n",
    "# Lists to store the dimensions\n",
    "widths = []\n",
    "heights = []\n",
    "\n",
    "# Loop through image paths and collect dimensions\n",
    "for img_path in combined_df['img_path']:\n",
    "    try:\n",
    "        with Image.open(img_path) as img:\n",
    "            width, height = img.size\n",
    "            widths.append(width)\n",
    "            heights.append(height)\n",
    "    except IOError:\n",
    "        print(f\"Error opening image: {img_path}\")\n",
    "\n",
    "# Plotting the distributions\n",
    "plt.figure(figsize=(12, 6))\n",
    "\n",
    "# Distribution of widths\n",
    "plt.subplot(1, 2, 1)\n",
    "plt.hist(widths, bins=30, color='blue', alpha=0.7)\n",
    "plt.title('Distribution of Image Widths')\n",
    "plt.xlabel('Width (pixels)')\n",
    "plt.ylabel('Frequency')\n",
    "\n",
    "# Distribution of heights\n",
    "plt.subplot(1, 2, 2)\n",
    "plt.hist(heights, bins=30, color='green', alpha=0.7)\n",
    "plt.title('Distribution of Image Heights')\n",
    "plt.xlabel('Height (pixels)')\n",
    "plt.ylabel('Frequency')\n",
    "\n",
    "plt.tight_layout()\n",
    "plt.show()\n"
   ]
  },
  {
   "cell_type": "code",
   "execution_count": 18,
   "metadata": {},
   "outputs": [
    {
     "data": {
      "text/html": [
       "<div>\n",
       "<style scoped>\n",
       "    .dataframe tbody tr th:only-of-type {\n",
       "        vertical-align: middle;\n",
       "    }\n",
       "\n",
       "    .dataframe tbody tr th {\n",
       "        vertical-align: top;\n",
       "    }\n",
       "\n",
       "    .dataframe thead th {\n",
       "        text-align: right;\n",
       "    }\n",
       "</style>\n",
       "<table border=\"1\" class=\"dataframe\">\n",
       "  <thead>\n",
       "    <tr style=\"text-align: right;\">\n",
       "      <th></th>\n",
       "      <th>img_path</th>\n",
       "      <th>Style</th>\n",
       "    </tr>\n",
       "  </thead>\n",
       "  <tbody>\n",
       "    <tr>\n",
       "      <th>0</th>\n",
       "      <td>/home/all/imgs/Sectional_Sofas/HONBAYModularSo...</td>\n",
       "      <td>Modern</td>\n",
       "    </tr>\n",
       "    <tr>\n",
       "      <th>1</th>\n",
       "      <td>/home/all/imgs/Sectional_Sofas/CHITAOversizedM...</td>\n",
       "      <td>Modern</td>\n",
       "    </tr>\n",
       "    <tr>\n",
       "      <th>2</th>\n",
       "      <td>/home/all/imgs/Sectional_Sofas/HONBAYModularSl...</td>\n",
       "      <td>Modern</td>\n",
       "    </tr>\n",
       "    <tr>\n",
       "      <th>3</th>\n",
       "      <td>/home/all/imgs/Sectional_Sofas/JUMMICOConverti...</td>\n",
       "      <td>Modern</td>\n",
       "    </tr>\n",
       "    <tr>\n",
       "      <th>4</th>\n",
       "      <td>/home/all/imgs/Sectional_Sofas/DevionFurniture...</td>\n",
       "      <td>Contemporary</td>\n",
       "    </tr>\n",
       "    <tr>\n",
       "      <th>...</th>\n",
       "      <td>...</td>\n",
       "      <td>...</td>\n",
       "    </tr>\n",
       "    <tr>\n",
       "      <th>11683</th>\n",
       "      <td>/home/all/imgs/Desks/YOMILUVELShapedDeskwithSt...</td>\n",
       "      <td>Modern</td>\n",
       "    </tr>\n",
       "    <tr>\n",
       "      <th>11684</th>\n",
       "      <td>/home/all/imgs/Desks/NeedLShapedDeskFoldingCom...</td>\n",
       "      <td>Country</td>\n",
       "    </tr>\n",
       "    <tr>\n",
       "      <th>11685</th>\n",
       "      <td>/home/all/imgs/Desks/SEDETALShapedDeskConverti...</td>\n",
       "      <td>Country</td>\n",
       "    </tr>\n",
       "    <tr>\n",
       "      <th>11686</th>\n",
       "      <td>/home/all/imgs/Desks/TribesignsInchesExecutive...</td>\n",
       "      <td>Modern</td>\n",
       "    </tr>\n",
       "    <tr>\n",
       "      <th>11687</th>\n",
       "      <td>/home/all/imgs/Desks/FurnitureRHomeOfficeDeskW...</td>\n",
       "      <td>Country</td>\n",
       "    </tr>\n",
       "  </tbody>\n",
       "</table>\n",
       "<p>11688 rows × 2 columns</p>\n",
       "</div>"
      ],
      "text/plain": [
       "                                                img_path         Style\n",
       "0      /home/all/imgs/Sectional_Sofas/HONBAYModularSo...        Modern\n",
       "1      /home/all/imgs/Sectional_Sofas/CHITAOversizedM...        Modern\n",
       "2      /home/all/imgs/Sectional_Sofas/HONBAYModularSl...        Modern\n",
       "3      /home/all/imgs/Sectional_Sofas/JUMMICOConverti...        Modern\n",
       "4      /home/all/imgs/Sectional_Sofas/DevionFurniture...  Contemporary\n",
       "...                                                  ...           ...\n",
       "11683  /home/all/imgs/Desks/YOMILUVELShapedDeskwithSt...        Modern\n",
       "11684  /home/all/imgs/Desks/NeedLShapedDeskFoldingCom...       Country\n",
       "11685  /home/all/imgs/Desks/SEDETALShapedDeskConverti...       Country\n",
       "11686  /home/all/imgs/Desks/TribesignsInchesExecutive...        Modern\n",
       "11687  /home/all/imgs/Desks/FurnitureRHomeOfficeDeskW...       Country\n",
       "\n",
       "[11688 rows x 2 columns]"
      ]
     },
     "execution_count": 18,
     "metadata": {},
     "output_type": "execute_result"
    }
   ],
   "source": [
    "combined_df = combined_df[['img_path', 'Style']].reset_index(drop=True)\n",
    "combined_df"
   ]
  },
  {
   "cell_type": "code",
   "execution_count": 34,
   "metadata": {},
   "outputs": [
    {
     "name": "stdout",
     "output_type": "stream",
     "text": [
      "Error in processing image: /home/all/imgs/Sectional_Sofas/VANOMiUShapedSectionalSofaCouchCorduroyFabricModernCozyJumboSizeSeaterSofaDoubleChaiseLongueBeige.jpg\n"
     ]
    }
   ],
   "source": [
    "import numpy as np\n",
    "from PIL import Image\n",
    "# import h5py  # for .h5 file\n",
    "import os\n",
    "\n",
    "def process_image(image_path):\n",
    "    try:\n",
    "        # Open the image file\n",
    "        with Image.open(image_path) as img:\n",
    "            # Resize and convert to RGB\n",
    "            img = img.resize((64, 64)).convert('RGB')\n",
    "            # Convert to numpy array and normalize\n",
    "            img_array = np.asarray(img) / 255.0\n",
    "            # # Transpose the array to have channels first\n",
    "            # img_array = img_array.transpose((2, 0, 1))\n",
    "            return img_array\n",
    "    except IOError:\n",
    "        print(f\"Error in processing image: {image_path}\")\n",
    "        return None\n",
    "\n",
    "# Assuming combined_df is your DataFrame\n",
    "# Process each image and collect them in a list\n",
    "images = []\n",
    "styles = []\n",
    "for _, row in combined_df.iterrows():\n",
    "    img_array = process_image(row['img_path'])\n",
    "    if img_array is not None:\n",
    "        images.append(img_array)\n",
    "        styles.append(row['Style'])\n",
    "\n",
    "# Convert lists to numpy arrays\n",
    "images = np.array(images)\n",
    "styles = np.array(styles)\n",
    "\n",
    "# # Saving to .h5 file\n",
    "# with h5py.File('data.h5', 'w') as h5file:\n",
    "#     h5file.create_dataset('images', data=images)\n",
    "#     h5file.create_dataset('styles', data=styles)\n",
    "\n",
    "# Or, saving to .npy file\n",
    "np.save('images64.npy', images)\n",
    "np.save('styles64.npy', styles)\n"
   ]
  },
  {
   "cell_type": "code",
   "execution_count": 35,
   "metadata": {},
   "outputs": [
    {
     "name": "stdout",
     "output_type": "stream",
     "text": [
      "Shape of the 'images' dataset: (8713, 1024, 1024, 3)\n"
     ]
    }
   ],
   "source": [
    "import h5py\n",
    "\n",
    "# Open the .h5 file in read mode\n",
    "with h5py.File('image.h5', 'r') as h5file:\n",
    "    # Access the dataset\n",
    "    images_dataset = h5file['images']\n",
    "    # Get the shape of the dataset\n",
    "    images_shape = images_dataset.shape\n",
    "\n",
    "print(\"Shape of the 'images' dataset:\", images_shape)"
   ]
  },
  {
   "cell_type": "code",
   "execution_count": null,
   "metadata": {},
   "outputs": [],
   "source": []
  }
 ],
 "metadata": {
  "kernelspec": {
   "display_name": "tf",
   "language": "python",
   "name": "python3"
  },
  "language_info": {
   "codemirror_mode": {
    "name": "ipython",
    "version": 3
   },
   "file_extension": ".py",
   "mimetype": "text/x-python",
   "name": "python",
   "nbconvert_exporter": "python",
   "pygments_lexer": "ipython3",
   "version": "3.11.5"
  }
 },
 "nbformat": 4,
 "nbformat_minor": 2
}

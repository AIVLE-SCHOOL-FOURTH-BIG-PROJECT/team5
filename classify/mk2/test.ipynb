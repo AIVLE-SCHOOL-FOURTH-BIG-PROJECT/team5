{
 "cells": [
  {
   "cell_type": "code",
   "execution_count": 5,
   "metadata": {},
   "outputs": [],
   "source": [
    "import pandas as pd\n",
    "import numpy as np\n",
    "from PIL import Image\n",
    "import ast\n",
    "import tensorflow as tf\n",
    "from tensorflow.keras.utils import to_categorical\n",
    "from sklearn.model_selection import train_test_split\n",
    "from tensorflow.keras import layers\n",
    "import tensorflow_addons as tfa\n",
    "import math\n",
    "import tensorflow as tf\n",
    "from tensorflow.keras.preprocessing.image import load_img, img_to_array\n",
    "from tensorflow.keras.callbacks import EarlyStopping\n",
    "import matplotlib.pyplot as plt\n",
    "from sklearn.metrics import confusion_matrix\n",
    "import seaborn as sns"
   ]
  },
  {
   "cell_type": "code",
   "execution_count": 10,
   "metadata": {},
   "outputs": [],
   "source": [
    "K = tf.keras.backend\n",
    "class DropConnect(layers.Layer):\n",
    "    def __init__(self, drop_connect_rate=0.0, **kwargs):\n",
    "        super().__init__(**kwargs)\n",
    "        self.drop_connect_rate = drop_connect_rate\n",
    "\n",
    "    def call(self, inputs, training=None):\n",
    "        if training:\n",
    "            keep_prob = 1.0 - self.drop_connect_rate\n",
    "            batch_size = tf.shape(inputs)[0]\n",
    "            random_tensor = keep_prob\n",
    "            random_tensor += K.random_uniform([batch_size, 1, 1, 1], dtype=inputs.dtype)\n",
    "            binary_tensor = tf.floor(random_tensor)\n",
    "            output = tf.math.divide(inputs, keep_prob) * binary_tensor\n",
    "            return output\n",
    "        else:\n",
    "            return inputs"
   ]
  },
  {
   "cell_type": "code",
   "execution_count": 26,
   "metadata": {},
   "outputs": [],
   "source": [
    "model_save_path = 'C:\\\\Users\\\\user\\\\Desktop\\\\BigF\\\\team5\\\\classify\\\\mk2\\\\Desks_model.h5'\n",
    "\n",
    "# 저장된 모델 불러오기\n",
    "model2 = tf.keras.models.load_model(model_save_path, custom_objects={'DropConnect': DropConnect})"
   ]
  },
  {
   "cell_type": "code",
   "execution_count": 30,
   "metadata": {},
   "outputs": [
    {
     "name": "stdout",
     "output_type": "stream",
     "text": [
      "1/1 [==============================] - 1s 833ms/step\n"
     ]
    },
    {
     "ename": "IndexError",
     "evalue": "list index out of range",
     "output_type": "error",
     "traceback": [
      "\u001b[1;31m---------------------------------------------------------------------------\u001b[0m",
      "\u001b[1;31mIndexError\u001b[0m                                Traceback (most recent call last)",
      "Cell \u001b[1;32mIn[30], line 30\u001b[0m\n\u001b[0;32m     27\u001b[0m predicted_class \u001b[38;5;241m=\u001b[39m np\u001b[38;5;241m.\u001b[39margmax(prediction, axis\u001b[38;5;241m=\u001b[39m\u001b[38;5;241m1\u001b[39m)\n\u001b[0;32m     29\u001b[0m \u001b[38;5;66;03m# 예측 결과 출력\u001b[39;00m\n\u001b[1;32m---> 30\u001b[0m \u001b[38;5;28mprint\u001b[39m(\u001b[38;5;124mf\u001b[39m\u001b[38;5;124m\"\u001b[39m\u001b[38;5;124mPredicted class: \u001b[39m\u001b[38;5;132;01m{\u001b[39;00mstyles[predicted_class[\u001b[38;5;241m0\u001b[39m]]\u001b[38;5;132;01m}\u001b[39;00m\u001b[38;5;124m\"\u001b[39m)\n",
      "\u001b[1;31mIndexError\u001b[0m: list index out of range"
     ]
    }
   ],
   "source": [
    "import numpy as np\n",
    "from tensorflow.keras.models import load_model\n",
    "from tensorflow.keras.preprocessing.image import load_img, img_to_array\n",
    "from PIL import Image\n",
    "\n",
    "# 이미지 전처리 함수\n",
    "def process_image(image_path, target_size=(256, 256)):\n",
    "    img = load_img(image_path, target_size=target_size)\n",
    "    img_array = img_to_array(img)\n",
    "    img_array = img_array / 255.0  # 정규화\n",
    "    return img_array\n",
    "\n",
    "# 모델 로드\n",
    "model = tf.keras.models.load_model(model_save_path, custom_objects={'DropConnect': DropConnect})\n",
    "\n",
    "# 스타일 목록 정의 (예: ['modern', 'traditional', ...])\n",
    "styles = ['modern', 'contemporary', 'classic', 'urban', 'country', 'unique', 'minimalism']\n",
    "\n",
    "# 새 이미지 로드 및 전처리\n",
    "new_image_path = 'C:\\\\Users\\\\user\\\\Desktop\\\\BigF\\\\team5\\\\classify\\\\FlamakerConvertibleSectionalSofaCouchModernFabricUShapedLivingRoomFurnitureSetSeatSectionalSleeperSofawithDoubleChaiseMemoryFoamGrey.jpg'\n",
    "\n",
    "new_image = process_image(new_image_path)\n",
    "new_image = np.expand_dims(new_image, axis=0)\n",
    "\n",
    "# 예측 수행\n",
    "prediction = model.predict(new_image)\n",
    "predicted_class = np.argmax(prediction, axis=1)\n",
    "\n",
    "# 예측 결과 출력\n",
    "print(f\"Predicted class: {styles[predicted_class[0]]}\")"
   ]
  },
  {
   "cell_type": "code",
   "execution_count": 27,
   "metadata": {},
   "outputs": [
    {
     "name": "stdout",
     "output_type": "stream",
     "text": [
      "1/1 [==============================] - 1s 732ms/step\n",
      "42\n",
      "{'classic', 'modern, rustic', 'country rustic', 'modern, simple', 'modern, contemporary', 'modern simple style', 'modern industrial', 'contemporary', 'modern,gaming,computer ,studio,work,office,stream', 'modern-c', 'modern gaming', 'country rustic, modern,gaming,computer ,studio,work,office', 'country', 'classic, industrial', 'minimalism', 'modern, industrial', 'modern/industrial/rustic', 'contemporary,modern', 'modern', 'modern, vintage, rustic', 'modern,simple,elegant', 'contemporary, modern', 'modern writing table', 'modern minimalist', 'modern, space save', 'classic, modern, industrial'}\n"
     ]
    }
   ],
   "source": [
    "def process_image(image_path):\n",
    "    img = load_img(image_path, target_size=(256, 256))\n",
    "    img_array = img_to_array(img)\n",
    "    img_array = img_array / 255.0  # 정규화\n",
    "    return img_array\n",
    "\n",
    "# 새 이미지 로드 및 전처리\n",
    "###  컨템포러리\n",
    "path = 'C:\\\\Users\\\\user\\\\Desktop\\\\BigF\\\\team5\\\\classify\\\\FlamakerConvertibleSectionalSofaCouchModernFabricUShapedLivingRoomFurnitureSetSeatSectionalSleeperSofawithDoubleChaiseMemoryFoamGrey.jpg'\n",
    "\n",
    "###  모던\n",
    "#path = 'C:\\\\Users\\\\user\\\\Desktop\\\\BigF\\\\team5\\\\classify\\\\FlamakerSectionalCouchSofaCouchforLivingRoomLShapedCouchwithReversibleChaiseFabricSmallCouchesforApartmentSmallSpacesDarkGrey.jpg'\n",
    "#path = 'C:\\\\Users\\\\user\\\\Desktop\\\\BigF\\\\team5\\\\classify\\\\LivavegeConvertibleSleeperSectionalSofawithPullBedLShapedwStorageChaiseModernLinenFabricCornerSeatersCouchesforLivingRoomApartmentandSmallSpaceDarkGray.jpg'\n",
    "#path = 'C:\\\\Users\\\\user\\\\Desktop\\\\BigF\\\\team5\\\\classify\\\\로맨틱3.png'\n",
    "new_image = process_image(path)\n",
    "new_image = np.expand_dims(new_image, axis=0)  # 모델에 맞는 형태로 배열 차원 확장\n",
    "\n",
    "# 예측 수행\n",
    "prediction = model2.predict(new_image)\n",
    "predicted_class = np.argmax(prediction, axis=1)\n",
    "\n",
    "# 예측 결과 출력\n",
    "def extract_all_styles(df, info_column='Product_Info'):\n",
    "    styles = set()\n",
    "    for info in df[info_column]:\n",
    "        try:\n",
    "            product_info = ast.literal_eval(info)\n",
    "            style = product_info.get('Style', '').lower()\n",
    "            if style:\n",
    "                styles.add(style)\n",
    "        except ValueError:\n",
    "            continue  # 파싱 에러가 발생한 경우 건너뜀\n",
    "    return styles\n",
    "\n",
    "home_office_desks_df = pd.read_pickle(\"C:\\\\Users\\\\user\\\\Desktop\\\\BigF\\\\team5\\\\classify\\\\mk2\\\\home_office_desks_df.pkl\")\n",
    "# 모든 유니크 스타일 추출\n",
    "styles = extract_all_styles(home_office_desks_df)\n",
    "\n",
    "print(predicted_class[0])\n",
    "print(styles)\n",
    "# print(f\"Predicted class: {styles[predicted_class[0]]}\")"
   ]
  }
 ],
 "metadata": {
  "kernelspec": {
   "display_name": "retina",
   "language": "python",
   "name": "python3"
  },
  "language_info": {
   "codemirror_mode": {
    "name": "ipython",
    "version": 3
   },
   "file_extension": ".py",
   "mimetype": "text/x-python",
   "name": "python",
   "nbconvert_exporter": "python",
   "pygments_lexer": "ipython3",
   "version": "3.8.0"
  }
 },
 "nbformat": 4,
 "nbformat_minor": 2
}

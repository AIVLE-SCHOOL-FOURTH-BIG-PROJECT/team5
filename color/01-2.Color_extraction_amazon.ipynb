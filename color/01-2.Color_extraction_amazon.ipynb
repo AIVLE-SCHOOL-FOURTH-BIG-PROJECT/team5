{
 "cells": [
  {
   "cell_type": "markdown",
   "metadata": {},
   "source": [
    "#### 2.Frequency of each cluster"
   ]
  },
  {
   "cell_type": "code",
   "execution_count": null,
   "metadata": {},
   "outputs": [
    {
     "ename": "",
     "evalue": "",
     "output_type": "error",
     "traceback": [
      "\u001b[1;31mFailed to start the Kernel 'ktteam5 (Python 3.10.13)'. \n",
      "\u001b[1;31mView Jupyter <a href='command:jupyter.viewOutput'>log</a> for further details. listen EFAULT: bad address in system call argument 127.0.0.1:9002"
     ]
    }
   ],
   "source": [
    "# 2.Frequency of each cluster\n",
    "import numpy as np\n",
    "from sklearn.cluster import KMeans\n",
    "from matplotlib import image as mp_image\n",
    "from matplotlib import pyplot as plt\n",
    "\n",
    "def extract_ordered_dominant_colors(image_path, num_colors):\n",
    "    # Load and normalize image\n",
    "    image = mp_image.imread(image_path) / 255.0\n",
    "    plt.imshow(image)\n",
    "    plt.axis('off')\n",
    "    plt.show()\n",
    "\n",
    "    # Reshape the image to be a list of pixels\n",
    "    pixels = image.reshape(-1, 3)\n",
    "    \n",
    "    # Use KMeans to find main colors\n",
    "    model = KMeans(n_clusters=num_colors)\n",
    "    model.fit(pixels)\n",
    "    \n",
    "    # Get the colors and labels\n",
    "    colors = model.cluster_centers_\n",
    "    labels = model.labels_\n",
    "    \n",
    "    # Count labels to find the frequency of each cluster\n",
    "    count_labels = np.bincount(labels)\n",
    "    total_pixels = len(pixels)\n",
    "    \n",
    "    # Calculate the percentage of each cluster\n",
    "    percentages = 100 * count_labels / total_pixels\n",
    "    percentages_rounded = np.round(percentages, 2)  # Round to 2 decimal places\n",
    "    \n",
    "    # Order the clusters by their frequency (most common first)\n",
    "    ordered_indices = np.argsort(count_labels)[::-1]  # Descending order\n",
    "    ordered_colors = colors[ordered_indices]\n",
    "    ordered_percentages = percentages_rounded[ordered_indices]\n",
    "    \n",
    "    # Display the ordered dominant colors\n",
    "    plt.figure(figsize=(num_colors, 2))\n",
    "    for i, color in enumerate(ordered_colors):\n",
    "        plt.subplot(1, num_colors, i+1)\n",
    "        plt.imshow([[color]])\n",
    "        plt.axis('off')\n",
    "    plt.show()\n",
    "    \n",
    "    return ordered_colors, ordered_percentages\n",
    "\n",
    "# Use the function\n",
    "ordered_dominant_colors, ordered_percentages = extract_ordered_dominant_colors('C:\\\\Users\\\\user\\\\amazon\\\\Detection\\\\team5\\\\Color_extraction\\\\test_images\\\\AAIRLLENSleekandSturdyInchComputerDeskPerfectforWorkandStudyMultiPurposeTableforWritingDiningandWorkstation.jpg', num_colors=5)\n",
    "print(\"Ordered Dominant Colors:\\n\", ordered_dominant_colors)\n",
    "print(\"Percentage of each color (rounded):\\n\", ordered_percentages)\n"
   ]
  },
  {
   "cell_type": "code",
   "execution_count": null,
   "metadata": {},
   "outputs": [],
   "source": []
  },
  {
   "cell_type": "code",
   "execution_count": null,
   "metadata": {},
   "outputs": [],
   "source": []
  }
 ],
 "metadata": {
  "kernelspec": {
   "display_name": "ktteam5",
   "language": "python",
   "name": "python3"
  },
  "language_info": {
   "codemirror_mode": {
    "name": "ipython",
    "version": 3
   },
   "file_extension": ".py",
   "mimetype": "text/x-python",
   "name": "python",
   "nbconvert_exporter": "python",
   "pygments_lexer": "ipython3",
   "version": "3.10.13"
  }
 },
 "nbformat": 4,
 "nbformat_minor": 2
}

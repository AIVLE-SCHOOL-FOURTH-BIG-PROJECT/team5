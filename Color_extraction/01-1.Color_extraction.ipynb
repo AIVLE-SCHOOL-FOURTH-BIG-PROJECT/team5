{
 "cells": [
  {
   "cell_type": "code",
   "execution_count": null,
   "metadata": {},
   "outputs": [
    {
     "ename": "",
     "evalue": "",
     "output_type": "error",
     "traceback": [
      "\u001b[1;31mFailed to start the Kernel 'nabang (Python 3.12.0)'. \n",
      "\u001b[1;31mView Jupyter <a href='command:jupyter.viewOutput'>log</a> for further details. listen EFAULT: bad address in system call argument 192.168.56.1:9000"
     ]
    }
   ],
   "source": [
    "import torch\n",
    "import numpy as np\n",
    "from sklearn.cluster import KMeans\n",
    "from PIL import Image\n",
    "from torchvision import transforms\n",
    "from matplotlib import pyplot as plt\n",
    "\n",
    "def extract_colors(image_path, num_colors):\n",
    "    # Load image\n",
    "    image = Image.open(image_path)\n",
    "    transform = transforms.ToTensor()\n",
    "    tensor = transform(image).unsqueeze(0)  # Transform to torch tensor\n",
    "    \n",
    "    # Reshape the image to be a list of pixels\n",
    "    pixels = tensor.view(-1, 3).numpy()\n",
    "    \n",
    "    # Use KMeans to find main colors\n",
    "    model = KMeans(n_clusters=num_colors)\n",
    "    model.fit(pixels)\n",
    "    \n",
    "    # Get the colors\n",
    "    colors = model.cluster_centers_\n",
    "    \n",
    "    # Display the colors\n",
    "    plt.figure(figsize=(num_colors, 2))\n",
    "    for i, color in enumerate(colors):\n",
    "        plt.subplot(1, num_colors, i+1)\n",
    "        plt.imshow([[color]])\n",
    "        plt.axis('off')\n",
    "    plt.show()\n",
    "    \n",
    "    return colors\n",
    "\n",
    "# Use the function\n",
    "colors = extract_colors('C:\\Users\\user\\amazon\\Detection\\team5\\team5\\Color_Extraction\\Test_images\\JUMMICOConvertibleSectionalSofaCouchLShapedCouchwithReversibleChaiseModernLinenFabricCouchesforLivingRoomApartmentandSmallSpaceDarkGrey.jpg', num_colors=5)\n"
   ]
  },
  {
   "cell_type": "code",
   "execution_count": null,
   "metadata": {},
   "outputs": [],
   "source": []
  }
 ],
 "metadata": {
  "kernelspec": {
   "display_name": "nabang",
   "language": "python",
   "name": "python3"
  },
  "language_info": {
   "name": "python",
   "version": "3.12.0"
  }
 },
 "nbformat": 4,
 "nbformat_minor": 2
}

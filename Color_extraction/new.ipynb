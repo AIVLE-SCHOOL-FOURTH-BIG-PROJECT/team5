{
 "cells": [
  {
   "cell_type": "code",
   "execution_count": null,
   "metadata": {},
   "outputs": [
    {
     "ename": "",
     "evalue": "",
     "output_type": "error",
     "traceback": [
      "\u001b[1;31mFailed to start the Kernel 'ktteam5 (Python 3.10.13)'. \n",
      "\u001b[1;31mView Jupyter <a href='command:jupyter.viewOutput'>log</a> for further details. listen EFAULT: bad address in system call argument 127.0.0.1:9001"
     ]
    }
   ],
   "source": [
    "import numpy as np\n",
    "import tensorflow as tf\n",
    "from sklearn.cluster import KMeans\n",
    "from matplotlib import image as mp_image\n",
    "from matplotlib import pyplot as plt\n",
    "\n",
    "def extract_colors(image_path, num_colors):\n",
    "    # Load image\n",
    "    image = mp_image.imread(image_path)\n",
    "    print(\"image:\", image)\n",
    "    image = image / 255.0  # normalize to [0,1]\n",
    "    print(image.shape)\n",
    "    plt.imshow(image)\n",
    "    plt.axis('off')\n",
    "    plt.show()\n",
    "\n",
    "    # Reshape the image to be a list of pixels\n",
    "    pixels = image.reshape(-1, 3)\n",
    "    print(pixels.shape)\n",
    "    \n",
    "    # Use KMeans to find main colors\n",
    "    model = KMeans(n_clusters=num_colors)\n",
    "    model.fit(pixels)\n",
    "    \n",
    "    # Get the colors\n",
    "    colors = model.cluster_centers_\n",
    "    \n",
    "    # Display the colors\n",
    "    plt.figure(figsize=(num_colors, 2))\n",
    "    for i, color in enumerate(colors):\n",
    "        print(i,color)\n",
    "        plt.subplot(1, num_colors, i+1)\n",
    "        plt.imshow([[color]])\n",
    "        plt.axis('off')\n",
    "    plt.show()\n",
    "    \n",
    "    \n",
    "    return colors\n",
    "\n",
    "# Use the function\n",
    "colors = extract_colors('C:\\\\Users\\\\user\\\\amazon\\\\Detection\\\\team5\\\\Color_extraction\\\\test_images\\\\AAIRLLENSleekandSturdyInchComputerDeskPerfectforWorkandStudyMultiPurposeTableforWritingDiningandWorkstation.jpg', num_colors=5)\n"
   ]
  },
  {
   "cell_type": "code",
   "execution_count": 13,
   "metadata": {},
   "outputs": [
    {
     "data": {
      "image/png": "[encoded data removed]",
      "text/plain": [
       "<Figure size 640x480 with 1 Axes>"
      ]
     },
     "metadata": {},
     "output_type": "display_data"
    },
    {
     "name": "stdout",
     "output_type": "stream",
     "text": [
      "(79, 52, 31)\n",
      "[(96, 68, 46), (220, 214, 207), (177, 166, 151), (161, 152, 149)]\n"
     ]
    }
   ],
   "source": [
    "# color_thief\n",
    "from colorthief import ColorThief\n",
    "import matplotlib.pyplot as plt\n",
    "import colorsys\n",
    "\n",
    "color_thief = ColorThief('C:\\\\Users\\\\user\\\\amazon\\\\Detection\\\\team5\\\\Color_extraction\\\\test_images\\\\AAIRLLENSleekandSturdyInchComputerDeskPerfectforWorkandStudyMultiPurposeTableforWritingDiningandWorkstation.jpg')\n",
    "dominant_color = color_thief.get_color(quality=10)\n",
    "palette = color_thief.get_palette(color_count=3)\n",
    "plt.imshow([[dominant_color]])\n",
    "plt.show()\n",
    "print(dominant_color)\n",
    "print(palette)"
   ]
  },
  {
   "cell_type": "code",
   "execution_count": 17,
   "metadata": {},
   "outputs": [
    {
     "name": "stdout",
     "output_type": "stream",
     "text": [
      "Original image mode: RGB\n",
      "Tensor shape: torch.Size([3, 1500, 1500])\n",
      "First few values of the tensor: tensor([0.9647, 0.9725, 0.9686])\n",
      "Pixels shape: (2250000, 3)\n",
      "First pixel values: [0.9647059 0.9647059 0.9647059]\n"
     ]
    },
    {
     "name": "stderr",
     "output_type": "stream",
     "text": [
      "c:\\Users\\user\\anaconda3\\envs\\ktteam5\\lib\\site-packages\\sklearn\\cluster\\_kmeans.py:1416: FutureWarning: The default value of `n_init` will change from 10 to 'auto' in 1.4. Set the value of `n_init` explicitly to suppress the warning\n",
      "  super()._check_params_vs_input(X, default_n_init=10)\n"
     ]
    },
    {
     "name": "stdout",
     "output_type": "stream",
     "text": [
      "Color 0: [0.0972389  0.09633747 0.0968948 ]\n",
      "Color 1: [0.65076077 0.65039766 0.65039444]\n",
      "Color 2: [0.27102792 0.2711572  0.27124697]\n",
      "Color 3: [0.4644897  0.4646308  0.46451783]\n",
      "Color 4: [0.9070009  0.90769696 0.90673095]\n"
     ]
    },
    {
     "data": {
      "image/png": "[encoded data removed]",
      "text/plain": [
       "<Figure size 500x200 with 5 Axes>"
      ]
     },
     "metadata": {},
     "output_type": "display_data"
    }
   ],
   "source": [
    "# torch\n",
    "import torch\n",
    "import numpy as np\n",
    "from sklearn.cluster import KMeans\n",
    "from PIL import Image\n",
    "from torchvision import transforms\n",
    "from matplotlib import pyplot as plt\n",
    "\n",
    "def extract_colors(image_path, num_colors):\n",
    "    # Load image\n",
    "    image = Image.open(image_path)\n",
    "    print(f\"Original image mode: {image.mode}\")  # Print the image mode (should be RGB for color images)\n",
    "    image.show()\n",
    "\n",
    "    # Ensure image is in RGB\n",
    "    if image.mode != 'RGB':\n",
    "        image = image.convert('RGB')\n",
    "    \n",
    "    # Apply the ToTensor transform\n",
    "    transform = transforms.ToTensor()\n",
    "    tensor = transform(image)  # Transform to torch tensor\n",
    "    print('Tensor shape:', tensor.shape)\n",
    "    print('First few values of the tensor:', tensor[:, 0, 0])  # Print first few values in the tensor\n",
    "    \n",
    "    # Reshape the image to be a list of pixels\n",
    "    pixels = tensor.view(-1, 3).numpy()\n",
    "    print('Pixels shape:', pixels.shape)\n",
    "    print('First pixel values:', pixels[0])\n",
    "    \n",
    "    # Use KMeans to find main colors\n",
    "    model = KMeans(n_clusters=num_colors)\n",
    "    model.fit(pixels)\n",
    "    \n",
    "    # Get the colors\n",
    "    colors = model.cluster_centers_\n",
    "    \n",
    "    # Display the colors\n",
    "    plt.figure(figsize=(num_colors, 2))\n",
    "    for i, color in enumerate(colors):\n",
    "        print(f\"Color {i}: {color}\")\n",
    "        plt.subplot(1, num_colors, i+1)\n",
    "        plt.imshow([[color]])\n",
    "        plt.axis('off')\n",
    "    plt.show()\n",
    "    \n",
    "    return colors\n",
    "\n",
    "# Use the function\n",
    "colors = extract_colors('C:\\\\Users\\\\user\\\\amazon\\\\Detection\\\\team5\\\\Color_extraction\\\\test_images\\\\AAIRLLENSleekandSturdyInchComputerDeskPerfectforWorkandStudyMultiPurposeTableforWritingDiningandWorkstation.jpg', num_colors=5)\n"
   ]
  },
  {
   "cell_type": "code",
   "execution_count": null,
   "metadata": {},
   "outputs": [],
   "source": []
  }
 ],
 "metadata": {
  "kernelspec": {
   "display_name": "nabang",
   "language": "python",
   "name": "python3"
  },
  "language_info": {
   "codemirror_mode": {
    "name": "ipython",
    "version": 3
   },
   "file_extension": ".py",
   "mimetype": "text/x-python",
   "name": "python",
   "nbconvert_exporter": "python",
   "pygments_lexer": "ipython3",
   "version": "3.10.13"
  }
 },
 "nbformat": 4,
 "nbformat_minor": 2
}
